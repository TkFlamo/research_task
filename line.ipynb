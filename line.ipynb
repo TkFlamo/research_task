{
 "cells": [
  {
   "cell_type": "code",
   "execution_count": 1,
   "id": "de4dec93",
   "metadata": {},
   "outputs": [],
   "source": [
    "import pandas as pd\n",
    "import numpy as np"
   ]
  },
  {
   "cell_type": "code",
   "execution_count": 2,
   "id": "a8d4d3c1",
   "metadata": {},
   "outputs": [],
   "source": [
    "data_train = pd.read_csv(\"C:/datasets/research_task/data_train.csv\")\n",
    "data_train = data_train.replace('?', np.nan)\n",
    "data_v = data_train[data_train['target'] > 800].index\n",
    "data_train = data_train.drop(data_v, axis=0)\n",
    "data_train = data_train.drop([\"id\", \"reopen_count\"], axis=1)\n",
    "data_train = data_train.dropna(axis = 1, thresh=1000)\n",
    "trash_data = [\"active\", \"made_sla\"]\n",
    "data_train = data_train.drop(trash_data, axis=1)"
   ]
  },
  {
   "cell_type": "code",
   "execution_count": 3,
   "id": "e95c613f",
   "metadata": {},
   "outputs": [],
   "source": [
    "id_cols = [\"caller_id\", \"sys_created_by\", \"sys_updated_by\", \"location\", \"assigned_to\", \"assignment_group\",\n",
    "           \"resolved_by\", \"opened_by\", \"category\", \"subcategory\", \"u_symptom\"]\n",
    "data_cols = [\"opened_at\", \"sys_created_at\", \"sys_updated_at\"]\n",
    "\n",
    "n_id_cols = [\"caller_id\", \"sys_created_by\", \"sys_updated_by\", \"assigned_to\", \"assignment_group\",\n",
    "           \"resolved_by\", \"opened_by\"]"
   ]
  },
  {
   "cell_type": "code",
   "execution_count": 4,
   "id": "15da27a7",
   "metadata": {},
   "outputs": [],
   "source": [
    "data_train[\"data_opened_at\"] = data_train[\"opened_at\"].astype(\"datetime64\").dt.month.astype(\"str\") + \"-m\"\n",
    "data_train[\"data_sys_created_at\"] = data_train[\"sys_created_at\"].astype(\"datetime64\").dt.month.astype(\"str\") + \"-m\"\n",
    "data_train[\"data_sys_updated_at\"] = data_train[\"sys_updated_at\"].astype(\"datetime64\").dt.month.astype(\"str\") + \"-m\"\n",
    "data_train[\"data_created_updated_diff\"] = (data_train[\"sys_updated_at\"].astype(\"datetime64\") - \n",
    "    data_train[\"sys_created_at\"].astype(\"datetime64\")).astype(\"timedelta64[h]\")\n",
    "data_train[\"data_opened_created_diff\"] = (data_train[\"sys_created_at\"].astype(\"datetime64\") - \n",
    "    data_train[\"opened_at\"].astype(\"datetime64\")).astype(\"timedelta64[h]\")\n",
    "\n",
    "data_train = data_train.drop(data_cols, axis=1)"
   ]
  },
  {
   "cell_type": "code",
   "execution_count": 5,
   "id": "bce9e21a",
   "metadata": {},
   "outputs": [],
   "source": [
    "data_train[\"data_created_updated_diff\"] = data_train[\"data_created_updated_diff\"].replace(np.nan, \n",
    "                                                                                          data_train[\"data_created_updated_diff\"].mean())\n",
    "data_train[\"data_opened_created_diff\"] = data_train[\"data_opened_created_diff\"].replace(np.nan, \n",
    "                                                                                          data_train[\"data_opened_created_diff\"].mean())"
   ]
  },
  {
   "cell_type": "code",
   "execution_count": 6,
   "id": "93759f2e",
   "metadata": {},
   "outputs": [],
   "source": [
    "#Min-Max нормировка\n",
    "data_train[\"data_created_updated_diff\"] = (data_train[\"data_created_updated_diff\"] - data_train[\"data_created_updated_diff\"].min()) / (data_train[\"data_created_updated_diff\"].max() - data_train[\"data_created_updated_diff\"].min())\n",
    "data_train[\"data_opened_created_diff\"] = (data_train[\"data_opened_created_diff\"] - data_train[\"data_opened_created_diff\"].min()) / (data_train[\"data_opened_created_diff\"].max() - data_train[\"data_opened_created_diff\"].min())\n",
    "data_train[\"sys_mod_count\"] = (data_train[\"sys_mod_count\"] - data_train[\"sys_mod_count\"].min()) / (data_train[\"sys_mod_count\"].max() - data_train[\"sys_mod_count\"].min())\n",
    "data_train[\"reassignment_count\"] = (data_train[\"reassignment_count\"] - data_train[\"reassignment_count\"].min()) / (data_train[\"reassignment_count\"].max() - data_train[\"reassignment_count\"].min())"
   ]
  },
  {
   "cell_type": "code",
   "execution_count": 7,
   "id": "5bef05d4",
   "metadata": {},
   "outputs": [],
   "source": [
    "cat_cols = [col for col in data_train.select_dtypes(include=['object']).columns]\n",
    "num_cols = [col for col in data_train.select_dtypes(include=['int64', 'bool', 'float64']).columns]\n",
    "f_num_cols = [col for col in num_cols if  (col != 'target')]\n",
    "n_f_cols = [col for col in data_train.columns if  (col != 'target')]"
   ]
  },
  {
   "cell_type": "code",
   "execution_count": 8,
   "id": "407e2279",
   "metadata": {},
   "outputs": [],
   "source": [
    "data_prom = pd.read_csv(\"C:/datasets/research_task/data_prom.csv\")"
   ]
  },
  {
   "cell_type": "code",
   "execution_count": 9,
   "id": "f5c1390d",
   "metadata": {},
   "outputs": [],
   "source": [
    "data_prom = data_prom.replace('?', np.nan)"
   ]
  },
  {
   "cell_type": "code",
   "execution_count": 10,
   "id": "d5eec26d",
   "metadata": {},
   "outputs": [],
   "source": [
    "data_prom[\"data_opened_at\"] = data_prom[\"opened_at\"].astype(\"datetime64\").dt.month.astype(\"str\") + \"-m\"\n",
    "data_prom[\"data_sys_created_at\"] = data_prom[\"sys_created_at\"].astype(\"datetime64\").dt.month.astype(\"str\") + \"-m\"\n",
    "data_prom[\"data_sys_updated_at\"] = data_prom[\"sys_updated_at\"].astype(\"datetime64\").dt.month.astype(\"str\") + \"-m\"\n",
    "data_prom[\"data_created_updated_diff\"] = (data_prom[\"sys_updated_at\"].astype(\"datetime64\") - \n",
    "    data_prom[\"sys_created_at\"].astype(\"datetime64\")).astype(\"timedelta64[h]\")\n",
    "data_prom[\"data_opened_created_diff\"] = (data_prom[\"sys_created_at\"].astype(\"datetime64\") - \n",
    "    data_prom[\"opened_at\"].astype(\"datetime64\")).astype(\"timedelta64[h]\")"
   ]
  },
  {
   "cell_type": "code",
   "execution_count": 11,
   "id": "35da5172",
   "metadata": {},
   "outputs": [],
   "source": [
    "data_prom[\"data_created_updated_diff\"] = data_prom[\"data_created_updated_diff\"].replace(np.nan, \n",
    "                                                                                          data_prom[\"data_created_updated_diff\"].mean())\n",
    "data_prom[\"data_opened_created_diff\"] = data_prom[\"data_opened_created_diff\"].replace(np.nan, \n",
    "                                                                                          data_prom[\"data_opened_created_diff\"].mean())"
   ]
  },
  {
   "cell_type": "code",
   "execution_count": 12,
   "id": "285af533",
   "metadata": {},
   "outputs": [],
   "source": [
    "#Min-Max нормировка\n",
    "data_prom[\"data_created_updated_diff\"] = (data_prom[\"data_created_updated_diff\"] - data_prom[\"data_created_updated_diff\"].min()) / (data_prom[\"data_created_updated_diff\"].max() - data_prom[\"data_created_updated_diff\"].min())\n",
    "data_prom[\"data_opened_created_diff\"] = (data_prom[\"data_opened_created_diff\"] - data_prom[\"data_opened_created_diff\"].min()) / (data_prom[\"data_opened_created_diff\"].max() - data_prom[\"data_opened_created_diff\"].min())\n",
    "data_prom[\"sys_mod_count\"] = (data_prom[\"sys_mod_count\"] - data_prom[\"sys_mod_count\"].min()) / (data_prom[\"sys_mod_count\"].max() - data_prom[\"sys_mod_count\"].min())\n",
    "data_prom[\"reassignment_count\"] = (data_prom[\"reassignment_count\"] - data_prom[\"reassignment_count\"].min()) / (data_prom[\"reassignment_count\"].max() - data_prom[\"reassignment_count\"].min())"
   ]
  },
  {
   "cell_type": "code",
   "execution_count": 13,
   "id": "446fa2f2",
   "metadata": {},
   "outputs": [],
   "source": [
    "data_prom = data_prom[n_f_cols]"
   ]
  },
  {
   "cell_type": "code",
   "execution_count": 14,
   "id": "7995570f",
   "metadata": {},
   "outputs": [],
   "source": [
    "for col in cat_cols:\n",
    "    for f in pd.unique(data_prom[col]):\n",
    "        if (f not in pd.unique(data_train[col])):\n",
    "            data_prom = data_prom.replace({col:{f:np.nan}})\n",
    "for col in cat_cols:\n",
    "    for f in pd.unique(data_train[col]):\n",
    "        if (f not in pd.unique(data_prom[col])):\n",
    "            data_train = data_train.replace({col:{f:np.nan}})"
   ]
  },
  {
   "cell_type": "code",
   "execution_count": 15,
   "id": "050d5c7d",
   "metadata": {},
   "outputs": [],
   "source": [
    "data_prom = data_prom.replace(np.nan, '?')\n",
    "data_train = data_train.replace(np.nan, '?')"
   ]
  },
  {
   "cell_type": "code",
   "execution_count": 16,
   "id": "233a176d",
   "metadata": {},
   "outputs": [],
   "source": [
    "dummy_features = pd.get_dummies(data_prom[cat_cols])\n",
    "data_prom_d = pd.concat([data_prom[f_num_cols], dummy_features], axis=1)\n",
    "data_prom_d = data_prom_d.astype('float')"
   ]
  },
  {
   "cell_type": "code",
   "execution_count": 21,
   "id": "fd5f0f4d",
   "metadata": {},
   "outputs": [],
   "source": [
    "dummy_features = pd.get_dummies(data_train[cat_cols])\n",
    "data_train_d = pd.concat([data_train[num_cols], dummy_features], axis=1)\n",
    "data_train_d = data_train_d.astype('float')\n",
    "for col in data_train_d.columns:\n",
    "    if (col not in data_prom_d.columns and col != 'target'):\n",
    "        data_train_d = data_train_d.drop(col, axis=1)\n",
    "f_cols = [col for col in data_train_d.columns if (col != 'target')]"
   ]
  },
  {
   "cell_type": "code",
   "execution_count": 22,
   "id": "76e6167a",
   "metadata": {},
   "outputs": [
    {
     "name": "stdout",
     "output_type": "stream",
     "text": [
      "<class 'pandas.core.frame.DataFrame'>\n",
      "Int64Index: 10019 entries, 0 to 10571\n",
      "Columns: 2857 entries, reassignment_count to data_sys_updated_at_9-m\n",
      "dtypes: float64(2857)\n",
      "memory usage: 218.5 MB\n"
     ]
    }
   ],
   "source": [
    "data_train_d.info()"
   ]
  },
  {
   "cell_type": "code",
   "execution_count": 23,
   "id": "02f15cea",
   "metadata": {},
   "outputs": [
    {
     "name": "stdout",
     "output_type": "stream",
     "text": [
      "<class 'pandas.core.frame.DataFrame'>\n",
      "RangeIndex: 5565 entries, 0 to 5564\n",
      "Columns: 2856 entries, reassignment_count to data_sys_updated_at_9-m\n",
      "dtypes: float64(2856)\n",
      "memory usage: 121.3 MB\n"
     ]
    }
   ],
   "source": [
    "data_prom_d.info()"
   ]
  },
  {
   "cell_type": "code",
   "execution_count": 24,
   "id": "8ec9f13b",
   "metadata": {},
   "outputs": [],
   "source": [
    "import sklearn\n",
    "from sklearn.model_selection import train_test_split\n",
    "\n",
    "X_train, X_test, y_train, y_test = train_test_split(data_train_d[f_cols], data_train_d['target'], \n",
    "                                                       train_size=0.95, \n",
    "                                                       random_state=42)"
   ]
  },
  {
   "cell_type": "code",
   "execution_count": 25,
   "id": "ace694e6",
   "metadata": {},
   "outputs": [],
   "source": [
    "import torch\n",
    "from torch import nn\n",
    "from torch.nn import functional as F\n",
    "from torch.utils import data\n",
    "import random\n",
    "from torch.utils.data import TensorDataset, DataLoader\n",
    "from torch.utils.data import Dataset\n",
    "from torchvision import datasets"
   ]
  },
  {
   "cell_type": "code",
   "execution_count": 26,
   "id": "fe47fffa",
   "metadata": {},
   "outputs": [],
   "source": [
    "class MyDataset(Dataset):\n",
    "    def __init__(self, samples, labels):\n",
    "        self.labels = torch.from_numpy(labels.to_numpy()).type(torch.FloatTensor) \n",
    "        self.samples = torch.from_numpy(samples.to_numpy()).type(torch.FloatTensor) \n",
    "\n",
    "    def __len__(self):\n",
    "        return len(self.labels)\n",
    "\n",
    "    def __getitem__(self, idx):\n",
    "        sample = self.samples[idx]\n",
    "        label = self.labels[idx]\n",
    "        return sample, label"
   ]
  },
  {
   "cell_type": "code",
   "execution_count": 30,
   "id": "8f13b0a6",
   "metadata": {},
   "outputs": [],
   "source": [
    "class PromDataset(Dataset):\n",
    "    def __init__(self, samples, num):\n",
    "        self.samples = torch.from_numpy(samples.to_numpy()).type(torch.FloatTensor)\n",
    "        self.num = num\n",
    "\n",
    "    def __len__(self):\n",
    "        num = self.num\n",
    "        return num\n",
    "\n",
    "    def __getitem__(self, idx):\n",
    "        sample = self.samples[idx]\n",
    "        return sample"
   ]
  },
  {
   "cell_type": "code",
   "execution_count": 31,
   "id": "c7a682f3",
   "metadata": {},
   "outputs": [],
   "source": [
    "t_data = MyDataset(X_train, y_train)\n",
    "v_data = MyDataset(X_test, y_test)\n",
    "p_data = PromDataset(data_prom_d, 5565)"
   ]
  },
  {
   "cell_type": "code",
   "execution_count": 32,
   "id": "40ba7df0",
   "metadata": {},
   "outputs": [],
   "source": [
    "dataloaders = {'train': data.DataLoader(t_data, batch_size=1,\n",
    "                                              shuffle=True, num_workers=0),\n",
    "               'val': data.DataLoader(v_data, batch_size=1,\n",
    "                                              shuffle=True, num_workers=0),\n",
    "               'prom': data.DataLoader(p_data, batch_size=1,\n",
    "                                              shuffle=False, num_workers=0),\n",
    "               }\n",
    "dataset_sizes = {'train': len(t_data),\n",
    "                'val': len(v_data), 'val': len(p_data)}"
   ]
  },
  {
   "cell_type": "code",
   "execution_count": 33,
   "id": "852795f8",
   "metadata": {},
   "outputs": [],
   "source": [
    "use_gpu = torch.cuda.is_available()"
   ]
  },
  {
   "cell_type": "code",
   "execution_count": 34,
   "id": "e1545187",
   "metadata": {},
   "outputs": [],
   "source": [
    "from tqdm.autonotebook import tqdm, trange\n",
    "\n",
    "import torch.nn as nn\n",
    "import torch.optim as optim\n",
    "from torch.optim import lr_scheduler\n",
    "\n",
    "import numpy as np\n",
    "from torchvision import datasets, models, transforms\n",
    "import matplotlib.pyplot as plt\n",
    "import time"
   ]
  },
  {
   "cell_type": "code",
   "execution_count": 35,
   "id": "fbc2a6f3",
   "metadata": {},
   "outputs": [],
   "source": [
    "def train_model(model, criterion, optimizer, num_epochs=25):\n",
    "    since = time.time()\n",
    "    best_model_wts = model.state_dict()\n",
    "    best_loss = 20000\n",
    "    losses = {'train': [], \"val\": []}\n",
    "    pbar = trange(num_epochs, desc=\"Epoch:\")\n",
    "    for epoch in pbar:\n",
    "        for phase in ['train', 'val']:\n",
    "            if phase == 'train':\n",
    "                model.train(True)\n",
    "            else:\n",
    "                model.eval()\n",
    "            running_loss = 0.0\n",
    "            for data in tqdm(dataloaders[phase], leave=False, desc=f\"{phase} iter:\"):\n",
    "                inputs, labels = data\n",
    "                if use_gpu:\n",
    "                    inputs = inputs.cuda()\n",
    "                    labels = labels.cuda()\n",
    "                if phase==\"train\":\n",
    "                    optimizer.zero_grad()\n",
    "                if phase == \"eval\":\n",
    "                    with torch.no_grad():\n",
    "                        outputs = model(inputs)\n",
    "                else:\n",
    "                    outputs = model(inputs)\n",
    "                loss = criterion(outputs, labels)\n",
    "                if phase == 'train':\n",
    "                    loss.backward()\n",
    "                    optimizer.step()\n",
    "                running_loss += loss.item()\n",
    "            epoch_loss = running_loss / dataset_sizes[phase]        \n",
    "            losses[phase].append(epoch_loss)  \n",
    "            pbar.set_description('{} Loss: {:.4f}'.format(\n",
    "                                    phase, epoch_loss\n",
    "                                ))\n",
    "            if phase == 'val' and epoch_loss < best_loss:\n",
    "                best_loss = epoch_loss\n",
    "                best_model_wts = model.state_dict()\n",
    "    time_elapsed = time.time() - since\n",
    "    print('Training complete in {:.0f}m {:.0f}s'.format(\n",
    "        time_elapsed // 60, time_elapsed % 60))\n",
    "    print('Best val Loss: {:4f}'.format(best_loss))\n",
    "    model.load_state_dict(best_model_wts)\n",
    "    return model, losses"
   ]
  },
  {
   "cell_type": "code",
   "execution_count": 36,
   "id": "35ca7aa8",
   "metadata": {},
   "outputs": [],
   "source": [
    "class SimpleNet(nn.Module):\n",
    "    def __init__(self, num):\n",
    "        super(SimpleNet, self).__init__()\n",
    "        self.fc1 = nn.Linear(num, 1000)\n",
    "        self.dropout1 = nn.Dropout(p=0.3)\n",
    "        self.fc2 = nn.Linear(1000, 500)\n",
    "        self.dropout2 = nn.Dropout(p=0.3)\n",
    "        self.fc3 = nn.Linear(500, 300)\n",
    "        self.fc4 = nn.Linear(300, 1)\n",
    "        \n",
    "    def forward(self, x):\n",
    "        x = F.sigmoid(self.fc1(x))\n",
    "        x = self.dropout1(F.sigmoid(self.fc2(x)))\n",
    "        x = self.dropout2(F.sigmoid(self.fc3(x)))\n",
    "        x = self.fc4(x)\n",
    "        return x"
   ]
  },
  {
   "cell_type": "code",
   "execution_count": 58,
   "id": "f2247333",
   "metadata": {},
   "outputs": [],
   "source": [
    "def run(model):\n",
    "    model.eval()\n",
    "    outputs = []\n",
    "    for data in dataloaders['prom']:\n",
    "        inputs = data\n",
    "        if use_gpu:\n",
    "            inputs = inputs.cuda()    \n",
    "        output = model(inputs)[0][0].tolist()\n",
    "        outputs.append(output)\n",
    "    return outputs"
   ]
  },
  {
   "cell_type": "code",
   "execution_count": 38,
   "id": "5158f5ca",
   "metadata": {},
   "outputs": [],
   "source": [
    "model = SimpleNet(len(f_cols))\n",
    "if use_gpu:\n",
    "    model = model.cuda()\n",
    "loss_fn = nn.L1Loss()\n",
    "optimizer_ft = optim.Adam(model.parameters(), lr=1e-3)\n",
    "exp_lr_scheduler = lr_scheduler.StepLR(optimizer_ft, step_size=5, gamma=0.1)"
   ]
  },
  {
   "cell_type": "code",
   "execution_count": 39,
   "id": "f1cde903",
   "metadata": {},
   "outputs": [
    {
     "data": {
      "application/vnd.jupyter.widget-view+json": {
       "model_id": "962296723fb14afdb141f1edf4a798f5",
       "version_major": 2,
       "version_minor": 0
      },
      "text/plain": [
       "Epoch::   0%|          | 0/15 [00:00<?, ?it/s]"
      ]
     },
     "metadata": {},
     "output_type": "display_data"
    },
    {
     "data": {
      "application/vnd.jupyter.widget-view+json": {
       "model_id": "",
       "version_major": 2,
       "version_minor": 0
      },
      "text/plain": [
       "train iter::   0%|          | 0/9518 [00:00<?, ?it/s]"
      ]
     },
     "metadata": {},
     "output_type": "display_data"
    },
    {
     "name": "stderr",
     "output_type": "stream",
     "text": [
      "C:\\Users\\savel\\anaconda3\\lib\\site-packages\\torch\\nn\\functional.py:1944: UserWarning: nn.functional.sigmoid is deprecated. Use torch.sigmoid instead.\n",
      "  warnings.warn(\"nn.functional.sigmoid is deprecated. Use torch.sigmoid instead.\")\n",
      "C:\\Users\\savel\\anaconda3\\lib\\site-packages\\torch\\nn\\modules\\loss.py:96: UserWarning: Using a target size (torch.Size([1])) that is different to the input size (torch.Size([1, 1])). This will likely lead to incorrect results due to broadcasting. Please ensure they have the same size.\n",
      "  return F.l1_loss(input, target, reduction=self.reduction)\n"
     ]
    },
    {
     "data": {
      "application/vnd.jupyter.widget-view+json": {
       "model_id": "",
       "version_major": 2,
       "version_minor": 0
      },
      "text/plain": [
       "val iter::   0%|          | 0/501 [00:00<?, ?it/s]"
      ]
     },
     "metadata": {},
     "output_type": "display_data"
    },
    {
     "data": {
      "application/vnd.jupyter.widget-view+json": {
       "model_id": "",
       "version_major": 2,
       "version_minor": 0
      },
      "text/plain": [
       "train iter::   0%|          | 0/9518 [00:00<?, ?it/s]"
      ]
     },
     "metadata": {},
     "output_type": "display_data"
    },
    {
     "data": {
      "application/vnd.jupyter.widget-view+json": {
       "model_id": "",
       "version_major": 2,
       "version_minor": 0
      },
      "text/plain": [
       "val iter::   0%|          | 0/501 [00:00<?, ?it/s]"
      ]
     },
     "metadata": {},
     "output_type": "display_data"
    },
    {
     "data": {
      "application/vnd.jupyter.widget-view+json": {
       "model_id": "",
       "version_major": 2,
       "version_minor": 0
      },
      "text/plain": [
       "train iter::   0%|          | 0/9518 [00:00<?, ?it/s]"
      ]
     },
     "metadata": {},
     "output_type": "display_data"
    },
    {
     "data": {
      "application/vnd.jupyter.widget-view+json": {
       "model_id": "",
       "version_major": 2,
       "version_minor": 0
      },
      "text/plain": [
       "val iter::   0%|          | 0/501 [00:00<?, ?it/s]"
      ]
     },
     "metadata": {},
     "output_type": "display_data"
    },
    {
     "data": {
      "application/vnd.jupyter.widget-view+json": {
       "model_id": "",
       "version_major": 2,
       "version_minor": 0
      },
      "text/plain": [
       "train iter::   0%|          | 0/9518 [00:00<?, ?it/s]"
      ]
     },
     "metadata": {},
     "output_type": "display_data"
    },
    {
     "data": {
      "application/vnd.jupyter.widget-view+json": {
       "model_id": "",
       "version_major": 2,
       "version_minor": 0
      },
      "text/plain": [
       "val iter::   0%|          | 0/501 [00:00<?, ?it/s]"
      ]
     },
     "metadata": {},
     "output_type": "display_data"
    },
    {
     "data": {
      "application/vnd.jupyter.widget-view+json": {
       "model_id": "",
       "version_major": 2,
       "version_minor": 0
      },
      "text/plain": [
       "train iter::   0%|          | 0/9518 [00:00<?, ?it/s]"
      ]
     },
     "metadata": {},
     "output_type": "display_data"
    },
    {
     "data": {
      "application/vnd.jupyter.widget-view+json": {
       "model_id": "",
       "version_major": 2,
       "version_minor": 0
      },
      "text/plain": [
       "val iter::   0%|          | 0/501 [00:00<?, ?it/s]"
      ]
     },
     "metadata": {},
     "output_type": "display_data"
    },
    {
     "data": {
      "application/vnd.jupyter.widget-view+json": {
       "model_id": "",
       "version_major": 2,
       "version_minor": 0
      },
      "text/plain": [
       "train iter::   0%|          | 0/9518 [00:00<?, ?it/s]"
      ]
     },
     "metadata": {},
     "output_type": "display_data"
    },
    {
     "data": {
      "application/vnd.jupyter.widget-view+json": {
       "model_id": "",
       "version_major": 2,
       "version_minor": 0
      },
      "text/plain": [
       "val iter::   0%|          | 0/501 [00:00<?, ?it/s]"
      ]
     },
     "metadata": {},
     "output_type": "display_data"
    },
    {
     "data": {
      "application/vnd.jupyter.widget-view+json": {
       "model_id": "",
       "version_major": 2,
       "version_minor": 0
      },
      "text/plain": [
       "train iter::   0%|          | 0/9518 [00:00<?, ?it/s]"
      ]
     },
     "metadata": {},
     "output_type": "display_data"
    },
    {
     "data": {
      "application/vnd.jupyter.widget-view+json": {
       "model_id": "",
       "version_major": 2,
       "version_minor": 0
      },
      "text/plain": [
       "val iter::   0%|          | 0/501 [00:00<?, ?it/s]"
      ]
     },
     "metadata": {},
     "output_type": "display_data"
    },
    {
     "data": {
      "application/vnd.jupyter.widget-view+json": {
       "model_id": "",
       "version_major": 2,
       "version_minor": 0
      },
      "text/plain": [
       "train iter::   0%|          | 0/9518 [00:00<?, ?it/s]"
      ]
     },
     "metadata": {},
     "output_type": "display_data"
    },
    {
     "data": {
      "application/vnd.jupyter.widget-view+json": {
       "model_id": "",
       "version_major": 2,
       "version_minor": 0
      },
      "text/plain": [
       "val iter::   0%|          | 0/501 [00:00<?, ?it/s]"
      ]
     },
     "metadata": {},
     "output_type": "display_data"
    },
    {
     "data": {
      "application/vnd.jupyter.widget-view+json": {
       "model_id": "",
       "version_major": 2,
       "version_minor": 0
      },
      "text/plain": [
       "train iter::   0%|          | 0/9518 [00:00<?, ?it/s]"
      ]
     },
     "metadata": {},
     "output_type": "display_data"
    },
    {
     "data": {
      "application/vnd.jupyter.widget-view+json": {
       "model_id": "",
       "version_major": 2,
       "version_minor": 0
      },
      "text/plain": [
       "val iter::   0%|          | 0/501 [00:00<?, ?it/s]"
      ]
     },
     "metadata": {},
     "output_type": "display_data"
    },
    {
     "data": {
      "application/vnd.jupyter.widget-view+json": {
       "model_id": "",
       "version_major": 2,
       "version_minor": 0
      },
      "text/plain": [
       "train iter::   0%|          | 0/9518 [00:00<?, ?it/s]"
      ]
     },
     "metadata": {},
     "output_type": "display_data"
    },
    {
     "data": {
      "application/vnd.jupyter.widget-view+json": {
       "model_id": "",
       "version_major": 2,
       "version_minor": 0
      },
      "text/plain": [
       "val iter::   0%|          | 0/501 [00:00<?, ?it/s]"
      ]
     },
     "metadata": {},
     "output_type": "display_data"
    },
    {
     "data": {
      "application/vnd.jupyter.widget-view+json": {
       "model_id": "",
       "version_major": 2,
       "version_minor": 0
      },
      "text/plain": [
       "train iter::   0%|          | 0/9518 [00:00<?, ?it/s]"
      ]
     },
     "metadata": {},
     "output_type": "display_data"
    },
    {
     "data": {
      "application/vnd.jupyter.widget-view+json": {
       "model_id": "",
       "version_major": 2,
       "version_minor": 0
      },
      "text/plain": [
       "val iter::   0%|          | 0/501 [00:00<?, ?it/s]"
      ]
     },
     "metadata": {},
     "output_type": "display_data"
    },
    {
     "data": {
      "application/vnd.jupyter.widget-view+json": {
       "model_id": "",
       "version_major": 2,
       "version_minor": 0
      },
      "text/plain": [
       "train iter::   0%|          | 0/9518 [00:00<?, ?it/s]"
      ]
     },
     "metadata": {},
     "output_type": "display_data"
    },
    {
     "data": {
      "application/vnd.jupyter.widget-view+json": {
       "model_id": "",
       "version_major": 2,
       "version_minor": 0
      },
      "text/plain": [
       "val iter::   0%|          | 0/501 [00:00<?, ?it/s]"
      ]
     },
     "metadata": {},
     "output_type": "display_data"
    },
    {
     "data": {
      "application/vnd.jupyter.widget-view+json": {
       "model_id": "",
       "version_major": 2,
       "version_minor": 0
      },
      "text/plain": [
       "train iter::   0%|          | 0/9518 [00:00<?, ?it/s]"
      ]
     },
     "metadata": {},
     "output_type": "display_data"
    },
    {
     "data": {
      "application/vnd.jupyter.widget-view+json": {
       "model_id": "",
       "version_major": 2,
       "version_minor": 0
      },
      "text/plain": [
       "val iter::   0%|          | 0/501 [00:00<?, ?it/s]"
      ]
     },
     "metadata": {},
     "output_type": "display_data"
    },
    {
     "data": {
      "application/vnd.jupyter.widget-view+json": {
       "model_id": "",
       "version_major": 2,
       "version_minor": 0
      },
      "text/plain": [
       "train iter::   0%|          | 0/9518 [00:00<?, ?it/s]"
      ]
     },
     "metadata": {},
     "output_type": "display_data"
    },
    {
     "data": {
      "application/vnd.jupyter.widget-view+json": {
       "model_id": "",
       "version_major": 2,
       "version_minor": 0
      },
      "text/plain": [
       "val iter::   0%|          | 0/501 [00:00<?, ?it/s]"
      ]
     },
     "metadata": {},
     "output_type": "display_data"
    },
    {
     "data": {
      "application/vnd.jupyter.widget-view+json": {
       "model_id": "",
       "version_major": 2,
       "version_minor": 0
      },
      "text/plain": [
       "train iter::   0%|          | 0/9518 [00:00<?, ?it/s]"
      ]
     },
     "metadata": {},
     "output_type": "display_data"
    },
    {
     "data": {
      "application/vnd.jupyter.widget-view+json": {
       "model_id": "",
       "version_major": 2,
       "version_minor": 0
      },
      "text/plain": [
       "val iter::   0%|          | 0/501 [00:00<?, ?it/s]"
      ]
     },
     "metadata": {},
     "output_type": "display_data"
    },
    {
     "name": "stdout",
     "output_type": "stream",
     "text": [
      "Training complete in 8m 38s\n",
      "Best val Loss: 6.117569\n"
     ]
    }
   ],
   "source": [
    "model, losses = train_model(model, loss_fn, optimizer_ft, num_epochs=15)"
   ]
  },
  {
   "cell_type": "code",
   "execution_count": 72,
   "id": "2d9a4ff0",
   "metadata": {},
   "outputs": [
    {
     "name": "stderr",
     "output_type": "stream",
     "text": [
      "C:\\Users\\savel\\anaconda3\\lib\\site-packages\\torch\\nn\\functional.py:1944: UserWarning: nn.functional.sigmoid is deprecated. Use torch.sigmoid instead.\n",
      "  warnings.warn(\"nn.functional.sigmoid is deprecated. Use torch.sigmoid instead.\")\n"
     ]
    }
   ],
   "source": [
    "outs = run(model)"
   ]
  },
  {
   "cell_type": "code",
   "execution_count": 73,
   "id": "a2af3df1",
   "metadata": {},
   "outputs": [],
   "source": [
    "outs = pd.DataFrame(outs,columns=['Outputs'])"
   ]
  },
  {
   "cell_type": "code",
   "execution_count": 74,
   "id": "e5849509",
   "metadata": {},
   "outputs": [],
   "source": [
    "outs.to_csv(\"C:/datasets/research_task/outs.csv\") "
   ]
  },
  {
   "cell_type": "code",
   "execution_count": null,
   "id": "fe15068b",
   "metadata": {},
   "outputs": [],
   "source": []
  }
 ],
 "metadata": {
  "kernelspec": {
   "display_name": "Python 3 (ipykernel)",
   "language": "python",
   "name": "python3"
  },
  "language_info": {
   "codemirror_mode": {
    "name": "ipython",
    "version": 3
   },
   "file_extension": ".py",
   "mimetype": "text/x-python",
   "name": "python",
   "nbconvert_exporter": "python",
   "pygments_lexer": "ipython3",
   "version": "3.9.7"
  }
 },
 "nbformat": 4,
 "nbformat_minor": 5
}
