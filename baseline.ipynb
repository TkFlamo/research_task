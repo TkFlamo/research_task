{
 "cells": [
  {
   "cell_type": "code",
   "execution_count": 1,
   "id": "de4dec93",
   "metadata": {},
   "outputs": [],
   "source": [
    "import pandas as pd\n",
    "import numpy as np"
   ]
  },
  {
   "cell_type": "code",
   "execution_count": 2,
   "id": "51635ec9",
   "metadata": {},
   "outputs": [],
   "source": [
    "data_train = pd.read_csv(\"C:/datasets/research_task/data_train.csv\")"
   ]
  },
  {
   "cell_type": "code",
   "execution_count": 3,
   "id": "51d98b4a",
   "metadata": {},
   "outputs": [
    {
     "data": {
      "text/html": [
       "<div>\n",
       "<style scoped>\n",
       "    .dataframe tbody tr th:only-of-type {\n",
       "        vertical-align: middle;\n",
       "    }\n",
       "\n",
       "    .dataframe tbody tr th {\n",
       "        vertical-align: top;\n",
       "    }\n",
       "\n",
       "    .dataframe thead th {\n",
       "        text-align: right;\n",
       "    }\n",
       "</style>\n",
       "<table border=\"1\" class=\"dataframe\">\n",
       "  <thead>\n",
       "    <tr style=\"text-align: right;\">\n",
       "      <th></th>\n",
       "      <th>id</th>\n",
       "      <th>active</th>\n",
       "      <th>reassignment_count</th>\n",
       "      <th>reopen_count</th>\n",
       "      <th>sys_mod_count</th>\n",
       "      <th>made_sla</th>\n",
       "      <th>caller_id</th>\n",
       "      <th>opened_by</th>\n",
       "      <th>opened_at</th>\n",
       "      <th>sys_created_by</th>\n",
       "      <th>...</th>\n",
       "      <th>assigned_to</th>\n",
       "      <th>knowledge</th>\n",
       "      <th>u_priority_confirmation</th>\n",
       "      <th>notify</th>\n",
       "      <th>problem_id</th>\n",
       "      <th>rfc</th>\n",
       "      <th>vendor</th>\n",
       "      <th>caused_by</th>\n",
       "      <th>resolved_by</th>\n",
       "      <th>target</th>\n",
       "    </tr>\n",
       "  </thead>\n",
       "  <tbody>\n",
       "    <tr>\n",
       "      <th>0</th>\n",
       "      <td>0</td>\n",
       "      <td>True</td>\n",
       "      <td>0</td>\n",
       "      <td>0</td>\n",
       "      <td>0</td>\n",
       "      <td>True</td>\n",
       "      <td>Caller 2403</td>\n",
       "      <td>Opened by  8</td>\n",
       "      <td>29/2/2016 01:16</td>\n",
       "      <td>Created by 6</td>\n",
       "      <td>...</td>\n",
       "      <td>?</td>\n",
       "      <td>True</td>\n",
       "      <td>False</td>\n",
       "      <td>Do Not Notify</td>\n",
       "      <td>?</td>\n",
       "      <td>?</td>\n",
       "      <td>?</td>\n",
       "      <td>?</td>\n",
       "      <td>Resolved by 149</td>\n",
       "      <td>130</td>\n",
       "    </tr>\n",
       "    <tr>\n",
       "      <th>1</th>\n",
       "      <td>1</td>\n",
       "      <td>True</td>\n",
       "      <td>0</td>\n",
       "      <td>0</td>\n",
       "      <td>0</td>\n",
       "      <td>True</td>\n",
       "      <td>Caller 2403</td>\n",
       "      <td>Opened by  397</td>\n",
       "      <td>29/2/2016 04:40</td>\n",
       "      <td>Created by 171</td>\n",
       "      <td>...</td>\n",
       "      <td>Resolver 89</td>\n",
       "      <td>True</td>\n",
       "      <td>False</td>\n",
       "      <td>Do Not Notify</td>\n",
       "      <td>?</td>\n",
       "      <td>?</td>\n",
       "      <td>?</td>\n",
       "      <td>?</td>\n",
       "      <td>Resolved by 81</td>\n",
       "      <td>149</td>\n",
       "    </tr>\n",
       "    <tr>\n",
       "      <th>2</th>\n",
       "      <td>2</td>\n",
       "      <td>True</td>\n",
       "      <td>0</td>\n",
       "      <td>0</td>\n",
       "      <td>4</td>\n",
       "      <td>True</td>\n",
       "      <td>Caller 4416</td>\n",
       "      <td>Opened by  8</td>\n",
       "      <td>29/2/2016 06:10</td>\n",
       "      <td>?</td>\n",
       "      <td>...</td>\n",
       "      <td>?</td>\n",
       "      <td>True</td>\n",
       "      <td>False</td>\n",
       "      <td>Do Not Notify</td>\n",
       "      <td>Problem ID  2</td>\n",
       "      <td>?</td>\n",
       "      <td>?</td>\n",
       "      <td>?</td>\n",
       "      <td>Resolved by 5</td>\n",
       "      <td>140</td>\n",
       "    </tr>\n",
       "    <tr>\n",
       "      <th>3</th>\n",
       "      <td>3</td>\n",
       "      <td>True</td>\n",
       "      <td>0</td>\n",
       "      <td>0</td>\n",
       "      <td>0</td>\n",
       "      <td>True</td>\n",
       "      <td>Caller 4491</td>\n",
       "      <td>Opened by  180</td>\n",
       "      <td>29/2/2016 06:38</td>\n",
       "      <td>Created by 81</td>\n",
       "      <td>...</td>\n",
       "      <td>Resolver 125</td>\n",
       "      <td>True</td>\n",
       "      <td>False</td>\n",
       "      <td>Do Not Notify</td>\n",
       "      <td>?</td>\n",
       "      <td>?</td>\n",
       "      <td>?</td>\n",
       "      <td>?</td>\n",
       "      <td>Resolved by 113</td>\n",
       "      <td>174</td>\n",
       "    </tr>\n",
       "    <tr>\n",
       "      <th>4</th>\n",
       "      <td>4</td>\n",
       "      <td>True</td>\n",
       "      <td>1</td>\n",
       "      <td>0</td>\n",
       "      <td>5</td>\n",
       "      <td>True</td>\n",
       "      <td>Caller 3765</td>\n",
       "      <td>Opened by  180</td>\n",
       "      <td>29/2/2016 06:58</td>\n",
       "      <td>Created by 81</td>\n",
       "      <td>...</td>\n",
       "      <td>?</td>\n",
       "      <td>True</td>\n",
       "      <td>False</td>\n",
       "      <td>Do Not Notify</td>\n",
       "      <td>?</td>\n",
       "      <td>?</td>\n",
       "      <td>?</td>\n",
       "      <td>?</td>\n",
       "      <td>Resolved by 62</td>\n",
       "      <td>129</td>\n",
       "    </tr>\n",
       "    <tr>\n",
       "      <th>...</th>\n",
       "      <td>...</td>\n",
       "      <td>...</td>\n",
       "      <td>...</td>\n",
       "      <td>...</td>\n",
       "      <td>...</td>\n",
       "      <td>...</td>\n",
       "      <td>...</td>\n",
       "      <td>...</td>\n",
       "      <td>...</td>\n",
       "      <td>...</td>\n",
       "      <td>...</td>\n",
       "      <td>...</td>\n",
       "      <td>...</td>\n",
       "      <td>...</td>\n",
       "      <td>...</td>\n",
       "      <td>...</td>\n",
       "      <td>...</td>\n",
       "      <td>...</td>\n",
       "      <td>...</td>\n",
       "      <td>...</td>\n",
       "      <td>...</td>\n",
       "    </tr>\n",
       "    <tr>\n",
       "      <th>10567</th>\n",
       "      <td>10567</td>\n",
       "      <td>True</td>\n",
       "      <td>0</td>\n",
       "      <td>0</td>\n",
       "      <td>0</td>\n",
       "      <td>True</td>\n",
       "      <td>Caller 272</td>\n",
       "      <td>Opened by  47</td>\n",
       "      <td>28/4/2016 20:28</td>\n",
       "      <td>?</td>\n",
       "      <td>...</td>\n",
       "      <td>?</td>\n",
       "      <td>False</td>\n",
       "      <td>False</td>\n",
       "      <td>Do Not Notify</td>\n",
       "      <td>?</td>\n",
       "      <td>?</td>\n",
       "      <td>?</td>\n",
       "      <td>?</td>\n",
       "      <td>Resolved by 24</td>\n",
       "      <td>120</td>\n",
       "    </tr>\n",
       "    <tr>\n",
       "      <th>10568</th>\n",
       "      <td>10568</td>\n",
       "      <td>True</td>\n",
       "      <td>0</td>\n",
       "      <td>0</td>\n",
       "      <td>0</td>\n",
       "      <td>True</td>\n",
       "      <td>Caller 4020</td>\n",
       "      <td>Opened by  58</td>\n",
       "      <td>28/4/2016 21:07</td>\n",
       "      <td>Created by 31</td>\n",
       "      <td>...</td>\n",
       "      <td>Resolver 17</td>\n",
       "      <td>False</td>\n",
       "      <td>False</td>\n",
       "      <td>Do Not Notify</td>\n",
       "      <td>?</td>\n",
       "      <td>?</td>\n",
       "      <td>?</td>\n",
       "      <td>?</td>\n",
       "      <td>Resolved by 15</td>\n",
       "      <td>132</td>\n",
       "    </tr>\n",
       "    <tr>\n",
       "      <th>10569</th>\n",
       "      <td>10569</td>\n",
       "      <td>True</td>\n",
       "      <td>1</td>\n",
       "      <td>0</td>\n",
       "      <td>3</td>\n",
       "      <td>True</td>\n",
       "      <td>Caller 2175</td>\n",
       "      <td>Opened by  305</td>\n",
       "      <td>28/4/2016 23:04</td>\n",
       "      <td>Created by 130</td>\n",
       "      <td>...</td>\n",
       "      <td>Resolver 115</td>\n",
       "      <td>False</td>\n",
       "      <td>False</td>\n",
       "      <td>Do Not Notify</td>\n",
       "      <td>?</td>\n",
       "      <td>?</td>\n",
       "      <td>?</td>\n",
       "      <td>?</td>\n",
       "      <td>Resolved by 103</td>\n",
       "      <td>232</td>\n",
       "    </tr>\n",
       "    <tr>\n",
       "      <th>10570</th>\n",
       "      <td>10570</td>\n",
       "      <td>True</td>\n",
       "      <td>1</td>\n",
       "      <td>0</td>\n",
       "      <td>5</td>\n",
       "      <td>True</td>\n",
       "      <td>Caller 2988</td>\n",
       "      <td>Opened by  463</td>\n",
       "      <td>28/4/2016 23:29</td>\n",
       "      <td>Created by 202</td>\n",
       "      <td>...</td>\n",
       "      <td>Resolver 249</td>\n",
       "      <td>False</td>\n",
       "      <td>False</td>\n",
       "      <td>Do Not Notify</td>\n",
       "      <td>?</td>\n",
       "      <td>?</td>\n",
       "      <td>?</td>\n",
       "      <td>?</td>\n",
       "      <td>Resolved by 227</td>\n",
       "      <td>250</td>\n",
       "    </tr>\n",
       "    <tr>\n",
       "      <th>10571</th>\n",
       "      <td>10571</td>\n",
       "      <td>True</td>\n",
       "      <td>0</td>\n",
       "      <td>0</td>\n",
       "      <td>0</td>\n",
       "      <td>True</td>\n",
       "      <td>Caller 3505</td>\n",
       "      <td>Opened by  5</td>\n",
       "      <td>28/4/2016 23:56</td>\n",
       "      <td>Created by 3</td>\n",
       "      <td>...</td>\n",
       "      <td>Resolver 5</td>\n",
       "      <td>False</td>\n",
       "      <td>False</td>\n",
       "      <td>Do Not Notify</td>\n",
       "      <td>Problem ID  160</td>\n",
       "      <td>?</td>\n",
       "      <td>?</td>\n",
       "      <td>?</td>\n",
       "      <td>Resolved by 4</td>\n",
       "      <td>120</td>\n",
       "    </tr>\n",
       "  </tbody>\n",
       "</table>\n",
       "<p>10572 rows × 33 columns</p>\n",
       "</div>"
      ],
      "text/plain": [
       "          id  active  reassignment_count  reopen_count  sys_mod_count  \\\n",
       "0          0    True                   0             0              0   \n",
       "1          1    True                   0             0              0   \n",
       "2          2    True                   0             0              4   \n",
       "3          3    True                   0             0              0   \n",
       "4          4    True                   1             0              5   \n",
       "...      ...     ...                 ...           ...            ...   \n",
       "10567  10567    True                   0             0              0   \n",
       "10568  10568    True                   0             0              0   \n",
       "10569  10569    True                   1             0              3   \n",
       "10570  10570    True                   1             0              5   \n",
       "10571  10571    True                   0             0              0   \n",
       "\n",
       "       made_sla    caller_id       opened_by        opened_at  sys_created_by  \\\n",
       "0          True  Caller 2403    Opened by  8  29/2/2016 01:16    Created by 6   \n",
       "1          True  Caller 2403  Opened by  397  29/2/2016 04:40  Created by 171   \n",
       "2          True  Caller 4416    Opened by  8  29/2/2016 06:10               ?   \n",
       "3          True  Caller 4491  Opened by  180  29/2/2016 06:38   Created by 81   \n",
       "4          True  Caller 3765  Opened by  180  29/2/2016 06:58   Created by 81   \n",
       "...         ...          ...             ...              ...             ...   \n",
       "10567      True   Caller 272   Opened by  47  28/4/2016 20:28               ?   \n",
       "10568      True  Caller 4020   Opened by  58  28/4/2016 21:07   Created by 31   \n",
       "10569      True  Caller 2175  Opened by  305  28/4/2016 23:04  Created by 130   \n",
       "10570      True  Caller 2988  Opened by  463  28/4/2016 23:29  Created by 202   \n",
       "10571      True  Caller 3505    Opened by  5  28/4/2016 23:56    Created by 3   \n",
       "\n",
       "       ...   assigned_to knowledge u_priority_confirmation         notify  \\\n",
       "0      ...             ?      True                   False  Do Not Notify   \n",
       "1      ...   Resolver 89      True                   False  Do Not Notify   \n",
       "2      ...             ?      True                   False  Do Not Notify   \n",
       "3      ...  Resolver 125      True                   False  Do Not Notify   \n",
       "4      ...             ?      True                   False  Do Not Notify   \n",
       "...    ...           ...       ...                     ...            ...   \n",
       "10567  ...             ?     False                   False  Do Not Notify   \n",
       "10568  ...   Resolver 17     False                   False  Do Not Notify   \n",
       "10569  ...  Resolver 115     False                   False  Do Not Notify   \n",
       "10570  ...  Resolver 249     False                   False  Do Not Notify   \n",
       "10571  ...    Resolver 5     False                   False  Do Not Notify   \n",
       "\n",
       "            problem_id rfc vendor caused_by      resolved_by target  \n",
       "0                    ?   ?      ?         ?  Resolved by 149    130  \n",
       "1                    ?   ?      ?         ?   Resolved by 81    149  \n",
       "2        Problem ID  2   ?      ?         ?    Resolved by 5    140  \n",
       "3                    ?   ?      ?         ?  Resolved by 113    174  \n",
       "4                    ?   ?      ?         ?   Resolved by 62    129  \n",
       "...                ...  ..    ...       ...              ...    ...  \n",
       "10567                ?   ?      ?         ?   Resolved by 24    120  \n",
       "10568                ?   ?      ?         ?   Resolved by 15    132  \n",
       "10569                ?   ?      ?         ?  Resolved by 103    232  \n",
       "10570                ?   ?      ?         ?  Resolved by 227    250  \n",
       "10571  Problem ID  160   ?      ?         ?    Resolved by 4    120  \n",
       "\n",
       "[10572 rows x 33 columns]"
      ]
     },
     "execution_count": 3,
     "metadata": {},
     "output_type": "execute_result"
    }
   ],
   "source": [
    "data_train"
   ]
  },
  {
   "cell_type": "code",
   "execution_count": 4,
   "id": "a8d4d3c1",
   "metadata": {},
   "outputs": [],
   "source": [
    "data_train = data_train.replace('?', np.nan)"
   ]
  },
  {
   "cell_type": "code",
   "execution_count": 5,
   "id": "9fffe0db",
   "metadata": {},
   "outputs": [
    {
     "data": {
      "text/html": [
       "<div>\n",
       "<style scoped>\n",
       "    .dataframe tbody tr th:only-of-type {\n",
       "        vertical-align: middle;\n",
       "    }\n",
       "\n",
       "    .dataframe tbody tr th {\n",
       "        vertical-align: top;\n",
       "    }\n",
       "\n",
       "    .dataframe thead th {\n",
       "        text-align: right;\n",
       "    }\n",
       "</style>\n",
       "<table border=\"1\" class=\"dataframe\">\n",
       "  <thead>\n",
       "    <tr style=\"text-align: right;\">\n",
       "      <th></th>\n",
       "      <th>id</th>\n",
       "      <th>reassignment_count</th>\n",
       "      <th>reopen_count</th>\n",
       "      <th>sys_mod_count</th>\n",
       "      <th>target</th>\n",
       "    </tr>\n",
       "  </thead>\n",
       "  <tbody>\n",
       "    <tr>\n",
       "      <th>count</th>\n",
       "      <td>10572.000000</td>\n",
       "      <td>10572.000000</td>\n",
       "      <td>10572.0</td>\n",
       "      <td>10572.000000</td>\n",
       "      <td>10572.000000</td>\n",
       "    </tr>\n",
       "    <tr>\n",
       "      <th>mean</th>\n",
       "      <td>5285.500000</td>\n",
       "      <td>0.719921</td>\n",
       "      <td>0.0</td>\n",
       "      <td>1.668842</td>\n",
       "      <td>341.463678</td>\n",
       "    </tr>\n",
       "    <tr>\n",
       "      <th>std</th>\n",
       "      <td>3052.017857</td>\n",
       "      <td>1.148499</td>\n",
       "      <td>0.0</td>\n",
       "      <td>2.892447</td>\n",
       "      <td>451.432343</td>\n",
       "    </tr>\n",
       "    <tr>\n",
       "      <th>min</th>\n",
       "      <td>0.000000</td>\n",
       "      <td>0.000000</td>\n",
       "      <td>0.0</td>\n",
       "      <td>0.000000</td>\n",
       "      <td>0.000000</td>\n",
       "    </tr>\n",
       "    <tr>\n",
       "      <th>25%</th>\n",
       "      <td>2642.750000</td>\n",
       "      <td>0.000000</td>\n",
       "      <td>0.0</td>\n",
       "      <td>0.000000</td>\n",
       "      <td>125.000000</td>\n",
       "    </tr>\n",
       "    <tr>\n",
       "      <th>50%</th>\n",
       "      <td>5285.500000</td>\n",
       "      <td>0.000000</td>\n",
       "      <td>0.0</td>\n",
       "      <td>1.000000</td>\n",
       "      <td>213.000000</td>\n",
       "    </tr>\n",
       "    <tr>\n",
       "      <th>75%</th>\n",
       "      <td>7928.250000</td>\n",
       "      <td>1.000000</td>\n",
       "      <td>0.0</td>\n",
       "      <td>2.000000</td>\n",
       "      <td>402.000000</td>\n",
       "    </tr>\n",
       "    <tr>\n",
       "      <th>max</th>\n",
       "      <td>10571.000000</td>\n",
       "      <td>13.000000</td>\n",
       "      <td>0.0</td>\n",
       "      <td>56.000000</td>\n",
       "      <td>5380.000000</td>\n",
       "    </tr>\n",
       "  </tbody>\n",
       "</table>\n",
       "</div>"
      ],
      "text/plain": [
       "                 id  reassignment_count  reopen_count  sys_mod_count  \\\n",
       "count  10572.000000        10572.000000       10572.0   10572.000000   \n",
       "mean    5285.500000            0.719921           0.0       1.668842   \n",
       "std     3052.017857            1.148499           0.0       2.892447   \n",
       "min        0.000000            0.000000           0.0       0.000000   \n",
       "25%     2642.750000            0.000000           0.0       0.000000   \n",
       "50%     5285.500000            0.000000           0.0       1.000000   \n",
       "75%     7928.250000            1.000000           0.0       2.000000   \n",
       "max    10571.000000           13.000000           0.0      56.000000   \n",
       "\n",
       "             target  \n",
       "count  10572.000000  \n",
       "mean     341.463678  \n",
       "std      451.432343  \n",
       "min        0.000000  \n",
       "25%      125.000000  \n",
       "50%      213.000000  \n",
       "75%      402.000000  \n",
       "max     5380.000000  "
      ]
     },
     "execution_count": 5,
     "metadata": {},
     "output_type": "execute_result"
    }
   ],
   "source": [
    "data_train.describe()"
   ]
  },
  {
   "cell_type": "code",
   "execution_count": 6,
   "id": "15e7415e",
   "metadata": {},
   "outputs": [],
   "source": [
    "data_v = data_train[data_train['target'] > 720].index"
   ]
  },
  {
   "cell_type": "code",
   "execution_count": 7,
   "id": "719c3a68",
   "metadata": {},
   "outputs": [],
   "source": [
    "data_train = data_train.drop(data_v, axis=0)\n",
    "data_train = data_train.drop([\"id\", \"reopen_count\"], axis=1)"
   ]
  },
  {
   "cell_type": "code",
   "execution_count": 8,
   "id": "c31ec349",
   "metadata": {},
   "outputs": [
    {
     "data": {
      "text/html": [
       "<div>\n",
       "<style scoped>\n",
       "    .dataframe tbody tr th:only-of-type {\n",
       "        vertical-align: middle;\n",
       "    }\n",
       "\n",
       "    .dataframe tbody tr th {\n",
       "        vertical-align: top;\n",
       "    }\n",
       "\n",
       "    .dataframe thead th {\n",
       "        text-align: right;\n",
       "    }\n",
       "</style>\n",
       "<table border=\"1\" class=\"dataframe\">\n",
       "  <thead>\n",
       "    <tr style=\"text-align: right;\">\n",
       "      <th></th>\n",
       "      <th>reassignment_count</th>\n",
       "      <th>sys_mod_count</th>\n",
       "      <th>target</th>\n",
       "    </tr>\n",
       "  </thead>\n",
       "  <tbody>\n",
       "    <tr>\n",
       "      <th>count</th>\n",
       "      <td>9906.000000</td>\n",
       "      <td>9906.000000</td>\n",
       "      <td>9906.000000</td>\n",
       "    </tr>\n",
       "    <tr>\n",
       "      <th>mean</th>\n",
       "      <td>0.699172</td>\n",
       "      <td>1.498890</td>\n",
       "      <td>252.862104</td>\n",
       "    </tr>\n",
       "    <tr>\n",
       "      <th>std</th>\n",
       "      <td>1.106884</td>\n",
       "      <td>2.198124</td>\n",
       "      <td>146.944348</td>\n",
       "    </tr>\n",
       "    <tr>\n",
       "      <th>min</th>\n",
       "      <td>0.000000</td>\n",
       "      <td>0.000000</td>\n",
       "      <td>0.000000</td>\n",
       "    </tr>\n",
       "    <tr>\n",
       "      <th>25%</th>\n",
       "      <td>0.000000</td>\n",
       "      <td>0.000000</td>\n",
       "      <td>124.000000</td>\n",
       "    </tr>\n",
       "    <tr>\n",
       "      <th>50%</th>\n",
       "      <td>0.000000</td>\n",
       "      <td>1.000000</td>\n",
       "      <td>194.000000</td>\n",
       "    </tr>\n",
       "    <tr>\n",
       "      <th>75%</th>\n",
       "      <td>1.000000</td>\n",
       "      <td>2.000000</td>\n",
       "      <td>360.000000</td>\n",
       "    </tr>\n",
       "    <tr>\n",
       "      <th>max</th>\n",
       "      <td>12.000000</td>\n",
       "      <td>56.000000</td>\n",
       "      <td>719.000000</td>\n",
       "    </tr>\n",
       "  </tbody>\n",
       "</table>\n",
       "</div>"
      ],
      "text/plain": [
       "       reassignment_count  sys_mod_count       target\n",
       "count         9906.000000    9906.000000  9906.000000\n",
       "mean             0.699172       1.498890   252.862104\n",
       "std              1.106884       2.198124   146.944348\n",
       "min              0.000000       0.000000     0.000000\n",
       "25%              0.000000       0.000000   124.000000\n",
       "50%              0.000000       1.000000   194.000000\n",
       "75%              1.000000       2.000000   360.000000\n",
       "max             12.000000      56.000000   719.000000"
      ]
     },
     "execution_count": 8,
     "metadata": {},
     "output_type": "execute_result"
    }
   ],
   "source": [
    "data_train.describe()"
   ]
  },
  {
   "cell_type": "code",
   "execution_count": 9,
   "id": "01cd60af",
   "metadata": {},
   "outputs": [
    {
     "name": "stdout",
     "output_type": "stream",
     "text": [
      "<class 'pandas.core.frame.DataFrame'>\n",
      "Int64Index: 9906 entries, 0 to 10571\n",
      "Data columns (total 31 columns):\n",
      " #   Column                   Non-Null Count  Dtype \n",
      "---  ------                   --------------  ----- \n",
      " 0   active                   9906 non-null   bool  \n",
      " 1   reassignment_count       9906 non-null   int64 \n",
      " 2   sys_mod_count            9906 non-null   int64 \n",
      " 3   made_sla                 9906 non-null   bool  \n",
      " 4   caller_id                9904 non-null   object\n",
      " 5   opened_by                9440 non-null   object\n",
      " 6   opened_at                9906 non-null   object\n",
      " 7   sys_created_by           6384 non-null   object\n",
      " 8   sys_created_at           6384 non-null   object\n",
      " 9   sys_updated_by           9906 non-null   object\n",
      " 10  sys_updated_at           9906 non-null   object\n",
      " 11  contact_type             9906 non-null   object\n",
      " 12  location                 9861 non-null   object\n",
      " 13  category                 9888 non-null   object\n",
      " 14  subcategory              9858 non-null   object\n",
      " 15  u_symptom                7475 non-null   object\n",
      " 16  cmdb_ci                  32 non-null     object\n",
      " 17  impact                   9906 non-null   object\n",
      " 18  urgency                  9906 non-null   object\n",
      " 19  priority                 9906 non-null   object\n",
      " 20  assignment_group         8533 non-null   object\n",
      " 21  assigned_to              6090 non-null   object\n",
      " 22  knowledge                9906 non-null   bool  \n",
      " 23  u_priority_confirmation  9906 non-null   bool  \n",
      " 24  notify                   9906 non-null   object\n",
      " 25  problem_id               119 non-null    object\n",
      " 26  rfc                      27 non-null     object\n",
      " 27  vendor                   0 non-null      object\n",
      " 28  caused_by                2 non-null      object\n",
      " 29  resolved_by              9898 non-null   object\n",
      " 30  target                   9906 non-null   int64 \n",
      "dtypes: bool(4), int64(3), object(24)\n",
      "memory usage: 2.2+ MB\n"
     ]
    }
   ],
   "source": [
    "data_train.info()"
   ]
  },
  {
   "cell_type": "code",
   "execution_count": 10,
   "id": "c8b0b306",
   "metadata": {},
   "outputs": [],
   "source": [
    "data_train = data_train.dropna(axis = 1, thresh=1000)"
   ]
  },
  {
   "cell_type": "code",
   "execution_count": 11,
   "id": "52d3817a",
   "metadata": {},
   "outputs": [
    {
     "name": "stdout",
     "output_type": "stream",
     "text": [
      "<class 'pandas.core.frame.DataFrame'>\n",
      "Int64Index: 9906 entries, 0 to 10571\n",
      "Data columns (total 26 columns):\n",
      " #   Column                   Non-Null Count  Dtype \n",
      "---  ------                   --------------  ----- \n",
      " 0   active                   9906 non-null   bool  \n",
      " 1   reassignment_count       9906 non-null   int64 \n",
      " 2   sys_mod_count            9906 non-null   int64 \n",
      " 3   made_sla                 9906 non-null   bool  \n",
      " 4   caller_id                9904 non-null   object\n",
      " 5   opened_by                9440 non-null   object\n",
      " 6   opened_at                9906 non-null   object\n",
      " 7   sys_created_by           6384 non-null   object\n",
      " 8   sys_created_at           6384 non-null   object\n",
      " 9   sys_updated_by           9906 non-null   object\n",
      " 10  sys_updated_at           9906 non-null   object\n",
      " 11  contact_type             9906 non-null   object\n",
      " 12  location                 9861 non-null   object\n",
      " 13  category                 9888 non-null   object\n",
      " 14  subcategory              9858 non-null   object\n",
      " 15  u_symptom                7475 non-null   object\n",
      " 16  impact                   9906 non-null   object\n",
      " 17  urgency                  9906 non-null   object\n",
      " 18  priority                 9906 non-null   object\n",
      " 19  assignment_group         8533 non-null   object\n",
      " 20  assigned_to              6090 non-null   object\n",
      " 21  knowledge                9906 non-null   bool  \n",
      " 22  u_priority_confirmation  9906 non-null   bool  \n",
      " 23  notify                   9906 non-null   object\n",
      " 24  resolved_by              9898 non-null   object\n",
      " 25  target                   9906 non-null   int64 \n",
      "dtypes: bool(4), int64(3), object(19)\n",
      "memory usage: 1.8+ MB\n"
     ]
    }
   ],
   "source": [
    "data_train.info()"
   ]
  },
  {
   "cell_type": "code",
   "execution_count": 12,
   "id": "fe28e806",
   "metadata": {},
   "outputs": [
    {
     "data": {
      "text/plain": [
       "array(['29/2/2016 01:23', '29/2/2016 04:57', nan, ..., '29/4/2016 00:04',\n",
       "       '28/4/2016 23:56', '28/4/2016 23:57'], dtype=object)"
      ]
     },
     "execution_count": 12,
     "metadata": {},
     "output_type": "execute_result"
    }
   ],
   "source": [
    "pd.unique(data_train[\"sys_created_at\"])"
   ]
  },
  {
   "cell_type": "code",
   "execution_count": 13,
   "id": "187c5446",
   "metadata": {},
   "outputs": [],
   "source": [
    "trash_data = [\"active\", \"made_sla\"]"
   ]
  },
  {
   "cell_type": "code",
   "execution_count": 14,
   "id": "4447b53f",
   "metadata": {},
   "outputs": [],
   "source": [
    "data_train = data_train.drop(trash_data, axis=1)"
   ]
  },
  {
   "cell_type": "code",
   "execution_count": 15,
   "id": "3072daeb",
   "metadata": {},
   "outputs": [
    {
     "name": "stdout",
     "output_type": "stream",
     "text": [
      "<class 'pandas.core.frame.DataFrame'>\n",
      "Int64Index: 9906 entries, 0 to 10571\n",
      "Data columns (total 24 columns):\n",
      " #   Column                   Non-Null Count  Dtype \n",
      "---  ------                   --------------  ----- \n",
      " 0   reassignment_count       9906 non-null   int64 \n",
      " 1   sys_mod_count            9906 non-null   int64 \n",
      " 2   caller_id                9904 non-null   object\n",
      " 3   opened_by                9440 non-null   object\n",
      " 4   opened_at                9906 non-null   object\n",
      " 5   sys_created_by           6384 non-null   object\n",
      " 6   sys_created_at           6384 non-null   object\n",
      " 7   sys_updated_by           9906 non-null   object\n",
      " 8   sys_updated_at           9906 non-null   object\n",
      " 9   contact_type             9906 non-null   object\n",
      " 10  location                 9861 non-null   object\n",
      " 11  category                 9888 non-null   object\n",
      " 12  subcategory              9858 non-null   object\n",
      " 13  u_symptom                7475 non-null   object\n",
      " 14  impact                   9906 non-null   object\n",
      " 15  urgency                  9906 non-null   object\n",
      " 16  priority                 9906 non-null   object\n",
      " 17  assignment_group         8533 non-null   object\n",
      " 18  assigned_to              6090 non-null   object\n",
      " 19  knowledge                9906 non-null   bool  \n",
      " 20  u_priority_confirmation  9906 non-null   bool  \n",
      " 21  notify                   9906 non-null   object\n",
      " 22  resolved_by              9898 non-null   object\n",
      " 23  target                   9906 non-null   int64 \n",
      "dtypes: bool(2), int64(3), object(19)\n",
      "memory usage: 1.8+ MB\n"
     ]
    }
   ],
   "source": [
    "data_train.info()"
   ]
  },
  {
   "cell_type": "code",
   "execution_count": 16,
   "id": "e95c613f",
   "metadata": {},
   "outputs": [],
   "source": [
    "id_cols = [\"caller_id\", \"sys_created_by\", \"sys_updated_by\", \"location\", \"assigned_to\", \"assignment_group\",\n",
    "           \"resolved_by\", \"opened_by\", \"category\", \"subcategory\", \"u_symptom\"]\n",
    "data_cols = [\"opened_at\", \"sys_created_at\", \"sys_updated_at\"]\n",
    "\n",
    "n_id_cols = [\"caller_id\", \"sys_created_by\", \"sys_updated_by\", \"assigned_to\", \"assignment_group\",\n",
    "           \"resolved_by\", \"opened_by\"]"
   ]
  },
  {
   "cell_type": "code",
   "execution_count": 17,
   "id": "15da27a7",
   "metadata": {},
   "outputs": [],
   "source": [
    "data_train[\"data_opened_at\"] = data_train[\"opened_at\"].astype(\"datetime64\").dt.month.astype(\"str\") + \"-m\"\n",
    "data_train[\"data_created_updated_diff\"] = (data_train[\"sys_updated_at\"].astype(\"datetime64\") - \n",
    "    data_train[\"sys_created_at\"].astype(\"datetime64\")).astype(\"timedelta64[h]\")\n",
    "\n",
    "\n",
    "\n",
    "data_train = data_train.drop(n_id_cols, axis=1)\n",
    "data_train = data_train.drop(data_cols, axis=1)"
   ]
  },
  {
   "cell_type": "code",
   "execution_count": 18,
   "id": "16562e16",
   "metadata": {},
   "outputs": [
    {
     "name": "stdout",
     "output_type": "stream",
     "text": [
      "<class 'pandas.core.frame.DataFrame'>\n",
      "Int64Index: 9906 entries, 0 to 10571\n",
      "Data columns (total 16 columns):\n",
      " #   Column                     Non-Null Count  Dtype  \n",
      "---  ------                     --------------  -----  \n",
      " 0   reassignment_count         9906 non-null   int64  \n",
      " 1   sys_mod_count              9906 non-null   int64  \n",
      " 2   contact_type               9906 non-null   object \n",
      " 3   location                   9861 non-null   object \n",
      " 4   category                   9888 non-null   object \n",
      " 5   subcategory                9858 non-null   object \n",
      " 6   u_symptom                  7475 non-null   object \n",
      " 7   impact                     9906 non-null   object \n",
      " 8   urgency                    9906 non-null   object \n",
      " 9   priority                   9906 non-null   object \n",
      " 10  knowledge                  9906 non-null   bool   \n",
      " 11  u_priority_confirmation    9906 non-null   bool   \n",
      " 12  notify                     9906 non-null   object \n",
      " 13  target                     9906 non-null   int64  \n",
      " 14  data_opened_at             9906 non-null   object \n",
      " 15  data_created_updated_diff  6384 non-null   float64\n",
      "dtypes: bool(2), float64(1), int64(3), object(10)\n",
      "memory usage: 1.2+ MB\n"
     ]
    }
   ],
   "source": [
    "data_train.info()"
   ]
  },
  {
   "cell_type": "code",
   "execution_count": 19,
   "id": "b16fdaf0",
   "metadata": {},
   "outputs": [
    {
     "data": {
      "text/html": [
       "<div>\n",
       "<style scoped>\n",
       "    .dataframe tbody tr th:only-of-type {\n",
       "        vertical-align: middle;\n",
       "    }\n",
       "\n",
       "    .dataframe tbody tr th {\n",
       "        vertical-align: top;\n",
       "    }\n",
       "\n",
       "    .dataframe thead th {\n",
       "        text-align: right;\n",
       "    }\n",
       "</style>\n",
       "<table border=\"1\" class=\"dataframe\">\n",
       "  <thead>\n",
       "    <tr style=\"text-align: right;\">\n",
       "      <th></th>\n",
       "      <th>reassignment_count</th>\n",
       "      <th>sys_mod_count</th>\n",
       "      <th>target</th>\n",
       "      <th>data_created_updated_diff</th>\n",
       "    </tr>\n",
       "  </thead>\n",
       "  <tbody>\n",
       "    <tr>\n",
       "      <th>count</th>\n",
       "      <td>9906.000000</td>\n",
       "      <td>9906.000000</td>\n",
       "      <td>9906.000000</td>\n",
       "      <td>6384.000000</td>\n",
       "    </tr>\n",
       "    <tr>\n",
       "      <th>mean</th>\n",
       "      <td>0.699172</td>\n",
       "      <td>1.498890</td>\n",
       "      <td>252.862104</td>\n",
       "      <td>84.381736</td>\n",
       "    </tr>\n",
       "    <tr>\n",
       "      <th>std</th>\n",
       "      <td>1.106884</td>\n",
       "      <td>2.198124</td>\n",
       "      <td>146.944348</td>\n",
       "      <td>1013.670576</td>\n",
       "    </tr>\n",
       "    <tr>\n",
       "      <th>min</th>\n",
       "      <td>0.000000</td>\n",
       "      <td>0.000000</td>\n",
       "      <td>0.000000</td>\n",
       "      <td>-6341.000000</td>\n",
       "    </tr>\n",
       "    <tr>\n",
       "      <th>25%</th>\n",
       "      <td>0.000000</td>\n",
       "      <td>0.000000</td>\n",
       "      <td>124.000000</td>\n",
       "      <td>0.000000</td>\n",
       "    </tr>\n",
       "    <tr>\n",
       "      <th>50%</th>\n",
       "      <td>0.000000</td>\n",
       "      <td>1.000000</td>\n",
       "      <td>194.000000</td>\n",
       "      <td>0.000000</td>\n",
       "    </tr>\n",
       "    <tr>\n",
       "      <th>75%</th>\n",
       "      <td>1.000000</td>\n",
       "      <td>2.000000</td>\n",
       "      <td>360.000000</td>\n",
       "      <td>7.000000</td>\n",
       "    </tr>\n",
       "    <tr>\n",
       "      <th>max</th>\n",
       "      <td>12.000000</td>\n",
       "      <td>56.000000</td>\n",
       "      <td>719.000000</td>\n",
       "      <td>7322.000000</td>\n",
       "    </tr>\n",
       "  </tbody>\n",
       "</table>\n",
       "</div>"
      ],
      "text/plain": [
       "       reassignment_count  sys_mod_count       target  \\\n",
       "count         9906.000000    9906.000000  9906.000000   \n",
       "mean             0.699172       1.498890   252.862104   \n",
       "std              1.106884       2.198124   146.944348   \n",
       "min              0.000000       0.000000     0.000000   \n",
       "25%              0.000000       0.000000   124.000000   \n",
       "50%              0.000000       1.000000   194.000000   \n",
       "75%              1.000000       2.000000   360.000000   \n",
       "max             12.000000      56.000000   719.000000   \n",
       "\n",
       "       data_created_updated_diff  \n",
       "count                6384.000000  \n",
       "mean                   84.381736  \n",
       "std                  1013.670576  \n",
       "min                 -6341.000000  \n",
       "25%                     0.000000  \n",
       "50%                     0.000000  \n",
       "75%                     7.000000  \n",
       "max                  7322.000000  "
      ]
     },
     "execution_count": 19,
     "metadata": {},
     "output_type": "execute_result"
    }
   ],
   "source": [
    "data_train.describe()"
   ]
  },
  {
   "cell_type": "code",
   "execution_count": 20,
   "id": "c7b8b355",
   "metadata": {},
   "outputs": [],
   "source": [
    "data_n = data_train[data_train['data_created_updated_diff'] < 0].index\n",
    "data_v = data_train[data_train['data_created_updated_diff'] > 1000].index\n",
    "data_train = data_train.drop(data_v, axis=0)\n",
    "data_train = data_train.drop(data_n, axis=0)"
   ]
  },
  {
   "cell_type": "code",
   "execution_count": 21,
   "id": "ebac5e8f",
   "metadata": {},
   "outputs": [],
   "source": [
    "data_train[\"data_created_updated_diff\"] = data_train[\"data_created_updated_diff\"].replace(np.nan, \n",
    "                                                                                          data_train[\"data_created_updated_diff\"].mean())"
   ]
  },
  {
   "cell_type": "code",
   "execution_count": 22,
   "id": "152357cd",
   "metadata": {},
   "outputs": [
    {
     "data": {
      "text/html": [
       "<div>\n",
       "<style scoped>\n",
       "    .dataframe tbody tr th:only-of-type {\n",
       "        vertical-align: middle;\n",
       "    }\n",
       "\n",
       "    .dataframe tbody tr th {\n",
       "        vertical-align: top;\n",
       "    }\n",
       "\n",
       "    .dataframe thead th {\n",
       "        text-align: right;\n",
       "    }\n",
       "</style>\n",
       "<table border=\"1\" class=\"dataframe\">\n",
       "  <thead>\n",
       "    <tr style=\"text-align: right;\">\n",
       "      <th></th>\n",
       "      <th>reassignment_count</th>\n",
       "      <th>sys_mod_count</th>\n",
       "      <th>target</th>\n",
       "      <th>data_created_updated_diff</th>\n",
       "    </tr>\n",
       "  </thead>\n",
       "  <tbody>\n",
       "    <tr>\n",
       "      <th>count</th>\n",
       "      <td>9299.000000</td>\n",
       "      <td>9299.000000</td>\n",
       "      <td>9299.000000</td>\n",
       "      <td>9299.000000</td>\n",
       "    </tr>\n",
       "    <tr>\n",
       "      <th>mean</th>\n",
       "      <td>0.611356</td>\n",
       "      <td>1.311861</td>\n",
       "      <td>244.736208</td>\n",
       "      <td>54.304656</td>\n",
       "    </tr>\n",
       "    <tr>\n",
       "      <th>std</th>\n",
       "      <td>0.984797</td>\n",
       "      <td>2.019735</td>\n",
       "      <td>143.165530</td>\n",
       "      <td>137.714835</td>\n",
       "    </tr>\n",
       "    <tr>\n",
       "      <th>min</th>\n",
       "      <td>0.000000</td>\n",
       "      <td>0.000000</td>\n",
       "      <td>0.000000</td>\n",
       "      <td>0.000000</td>\n",
       "    </tr>\n",
       "    <tr>\n",
       "      <th>25%</th>\n",
       "      <td>0.000000</td>\n",
       "      <td>0.000000</td>\n",
       "      <td>123.000000</td>\n",
       "      <td>0.000000</td>\n",
       "    </tr>\n",
       "    <tr>\n",
       "      <th>50%</th>\n",
       "      <td>0.000000</td>\n",
       "      <td>1.000000</td>\n",
       "      <td>185.000000</td>\n",
       "      <td>9.000000</td>\n",
       "    </tr>\n",
       "    <tr>\n",
       "      <th>75%</th>\n",
       "      <td>1.000000</td>\n",
       "      <td>2.000000</td>\n",
       "      <td>339.000000</td>\n",
       "      <td>54.304656</td>\n",
       "    </tr>\n",
       "    <tr>\n",
       "      <th>max</th>\n",
       "      <td>12.000000</td>\n",
       "      <td>56.000000</td>\n",
       "      <td>719.000000</td>\n",
       "      <td>951.000000</td>\n",
       "    </tr>\n",
       "  </tbody>\n",
       "</table>\n",
       "</div>"
      ],
      "text/plain": [
       "       reassignment_count  sys_mod_count       target  \\\n",
       "count         9299.000000    9299.000000  9299.000000   \n",
       "mean             0.611356       1.311861   244.736208   \n",
       "std              0.984797       2.019735   143.165530   \n",
       "min              0.000000       0.000000     0.000000   \n",
       "25%              0.000000       0.000000   123.000000   \n",
       "50%              0.000000       1.000000   185.000000   \n",
       "75%              1.000000       2.000000   339.000000   \n",
       "max             12.000000      56.000000   719.000000   \n",
       "\n",
       "       data_created_updated_diff  \n",
       "count                9299.000000  \n",
       "mean                   54.304656  \n",
       "std                   137.714835  \n",
       "min                     0.000000  \n",
       "25%                     0.000000  \n",
       "50%                     9.000000  \n",
       "75%                    54.304656  \n",
       "max                   951.000000  "
      ]
     },
     "execution_count": 22,
     "metadata": {},
     "output_type": "execute_result"
    }
   ],
   "source": [
    "data_train.describe()"
   ]
  },
  {
   "cell_type": "code",
   "execution_count": 23,
   "id": "698d96b2",
   "metadata": {},
   "outputs": [],
   "source": [
    "data_train = data_train.replace(np.nan, '?')"
   ]
  },
  {
   "cell_type": "code",
   "execution_count": 24,
   "id": "5bef05d4",
   "metadata": {},
   "outputs": [],
   "source": [
    "cat_cols = [col for col in data_train.select_dtypes(include=['object']).columns]\n",
    "num_cols = [col for col in data_train.select_dtypes(include=['int64', 'bool', 'float64']).columns]"
   ]
  },
  {
   "cell_type": "code",
   "execution_count": 25,
   "id": "fd5f0f4d",
   "metadata": {},
   "outputs": [],
   "source": [
    "dummy_features = pd.get_dummies(data_train[cat_cols])"
   ]
  },
  {
   "cell_type": "code",
   "execution_count": 26,
   "id": "1a7e5029",
   "metadata": {},
   "outputs": [],
   "source": [
    "data_train = pd.concat([data_train[num_cols], dummy_features], axis=1)"
   ]
  },
  {
   "cell_type": "code",
   "execution_count": 27,
   "id": "f5e5f68e",
   "metadata": {},
   "outputs": [],
   "source": [
    "f_cols = [col for col in data_train.columns if (col != 'target')]\n",
    "f_num_cols = [col for col in num_cols if (col != 'target')]"
   ]
  },
  {
   "cell_type": "code",
   "execution_count": 28,
   "id": "21a4860f",
   "metadata": {},
   "outputs": [
    {
     "name": "stdout",
     "output_type": "stream",
     "text": [
      "<class 'pandas.core.frame.DataFrame'>\n",
      "Int64Index: 9299 entries, 0 to 10571\n",
      "Columns: 740 entries, reassignment_count to data_opened_at_9-m\n",
      "dtypes: bool(2), float64(1), int64(3), uint8(734)\n",
      "memory usage: 6.9 MB\n"
     ]
    }
   ],
   "source": [
    "data_train.info()"
   ]
  },
  {
   "cell_type": "code",
   "execution_count": 29,
   "id": "e33cbdd9",
   "metadata": {},
   "outputs": [],
   "source": [
    "data_train = data_train.astype('float')"
   ]
  },
  {
   "cell_type": "code",
   "execution_count": 30,
   "id": "ca3b5560",
   "metadata": {},
   "outputs": [],
   "source": [
    "#Min-Max нормировка\n",
    "data_train[\"data_created_updated_diff\"] = (data_train[\"data_created_updated_diff\"] - data_train[\"data_created_updated_diff\"].min()) / (data_train[\"data_created_updated_diff\"].max() - data_train[\"data_created_updated_diff\"].min())\n",
    "data_train[\"sys_mod_count\"] = (data_train[\"sys_mod_count\"] - data_train[\"sys_mod_count\"].min()) / (data_train[\"sys_mod_count\"].max() - data_train[\"sys_mod_count\"].min())\n",
    "data_train[\"reassignment_count\"] = (data_train[\"reassignment_count\"] - data_train[\"reassignment_count\"].min()) / (data_train[\"reassignment_count\"].max() - data_train[\"reassignment_count\"].min())"
   ]
  },
  {
   "cell_type": "code",
   "execution_count": 31,
   "id": "aade98d6",
   "metadata": {},
   "outputs": [
    {
     "data": {
      "text/html": [
       "<div>\n",
       "<style scoped>\n",
       "    .dataframe tbody tr th:only-of-type {\n",
       "        vertical-align: middle;\n",
       "    }\n",
       "\n",
       "    .dataframe tbody tr th {\n",
       "        vertical-align: top;\n",
       "    }\n",
       "\n",
       "    .dataframe thead th {\n",
       "        text-align: right;\n",
       "    }\n",
       "</style>\n",
       "<table border=\"1\" class=\"dataframe\">\n",
       "  <thead>\n",
       "    <tr style=\"text-align: right;\">\n",
       "      <th></th>\n",
       "      <th>reassignment_count</th>\n",
       "      <th>sys_mod_count</th>\n",
       "      <th>knowledge</th>\n",
       "      <th>u_priority_confirmation</th>\n",
       "      <th>target</th>\n",
       "      <th>data_created_updated_diff</th>\n",
       "      <th>contact_type_Email</th>\n",
       "      <th>contact_type_Phone</th>\n",
       "      <th>location_?</th>\n",
       "      <th>location_Location 10</th>\n",
       "      <th>...</th>\n",
       "      <th>data_opened_at_11-m</th>\n",
       "      <th>data_opened_at_12-m</th>\n",
       "      <th>data_opened_at_2-m</th>\n",
       "      <th>data_opened_at_3-m</th>\n",
       "      <th>data_opened_at_4-m</th>\n",
       "      <th>data_opened_at_5-m</th>\n",
       "      <th>data_opened_at_6-m</th>\n",
       "      <th>data_opened_at_7-m</th>\n",
       "      <th>data_opened_at_8-m</th>\n",
       "      <th>data_opened_at_9-m</th>\n",
       "    </tr>\n",
       "  </thead>\n",
       "  <tbody>\n",
       "    <tr>\n",
       "      <th>count</th>\n",
       "      <td>9299.000000</td>\n",
       "      <td>9299.000000</td>\n",
       "      <td>9299.000000</td>\n",
       "      <td>9299.000000</td>\n",
       "      <td>9299.000000</td>\n",
       "      <td>9299.000000</td>\n",
       "      <td>9299.000000</td>\n",
       "      <td>9299.000000</td>\n",
       "      <td>9299.000000</td>\n",
       "      <td>9299.000000</td>\n",
       "      <td>...</td>\n",
       "      <td>9299.000000</td>\n",
       "      <td>9299.000000</td>\n",
       "      <td>9299.000000</td>\n",
       "      <td>9299.000000</td>\n",
       "      <td>9299.000000</td>\n",
       "      <td>9299.000000</td>\n",
       "      <td>9299.000000</td>\n",
       "      <td>9299.000000</td>\n",
       "      <td>9299.000000</td>\n",
       "      <td>9299.000000</td>\n",
       "    </tr>\n",
       "    <tr>\n",
       "      <th>mean</th>\n",
       "      <td>0.050946</td>\n",
       "      <td>0.023426</td>\n",
       "      <td>0.208410</td>\n",
       "      <td>0.000538</td>\n",
       "      <td>244.736208</td>\n",
       "      <td>0.057103</td>\n",
       "      <td>0.003871</td>\n",
       "      <td>0.996129</td>\n",
       "      <td>0.004839</td>\n",
       "      <td>0.000108</td>\n",
       "      <td>...</td>\n",
       "      <td>0.048177</td>\n",
       "      <td>0.027422</td>\n",
       "      <td>0.039897</td>\n",
       "      <td>0.309818</td>\n",
       "      <td>0.335305</td>\n",
       "      <td>0.029573</td>\n",
       "      <td>0.026132</td>\n",
       "      <td>0.056350</td>\n",
       "      <td>0.042693</td>\n",
       "      <td>0.018604</td>\n",
       "    </tr>\n",
       "    <tr>\n",
       "      <th>std</th>\n",
       "      <td>0.082066</td>\n",
       "      <td>0.036067</td>\n",
       "      <td>0.406193</td>\n",
       "      <td>0.023183</td>\n",
       "      <td>143.165530</td>\n",
       "      <td>0.144811</td>\n",
       "      <td>0.062103</td>\n",
       "      <td>0.062103</td>\n",
       "      <td>0.069400</td>\n",
       "      <td>0.010370</td>\n",
       "      <td>...</td>\n",
       "      <td>0.214152</td>\n",
       "      <td>0.163319</td>\n",
       "      <td>0.195727</td>\n",
       "      <td>0.462443</td>\n",
       "      <td>0.472122</td>\n",
       "      <td>0.169415</td>\n",
       "      <td>0.159536</td>\n",
       "      <td>0.230609</td>\n",
       "      <td>0.202174</td>\n",
       "      <td>0.135130</td>\n",
       "    </tr>\n",
       "    <tr>\n",
       "      <th>min</th>\n",
       "      <td>0.000000</td>\n",
       "      <td>0.000000</td>\n",
       "      <td>0.000000</td>\n",
       "      <td>0.000000</td>\n",
       "      <td>0.000000</td>\n",
       "      <td>0.000000</td>\n",
       "      <td>0.000000</td>\n",
       "      <td>0.000000</td>\n",
       "      <td>0.000000</td>\n",
       "      <td>0.000000</td>\n",
       "      <td>...</td>\n",
       "      <td>0.000000</td>\n",
       "      <td>0.000000</td>\n",
       "      <td>0.000000</td>\n",
       "      <td>0.000000</td>\n",
       "      <td>0.000000</td>\n",
       "      <td>0.000000</td>\n",
       "      <td>0.000000</td>\n",
       "      <td>0.000000</td>\n",
       "      <td>0.000000</td>\n",
       "      <td>0.000000</td>\n",
       "    </tr>\n",
       "    <tr>\n",
       "      <th>25%</th>\n",
       "      <td>0.000000</td>\n",
       "      <td>0.000000</td>\n",
       "      <td>0.000000</td>\n",
       "      <td>0.000000</td>\n",
       "      <td>123.000000</td>\n",
       "      <td>0.000000</td>\n",
       "      <td>0.000000</td>\n",
       "      <td>1.000000</td>\n",
       "      <td>0.000000</td>\n",
       "      <td>0.000000</td>\n",
       "      <td>...</td>\n",
       "      <td>0.000000</td>\n",
       "      <td>0.000000</td>\n",
       "      <td>0.000000</td>\n",
       "      <td>0.000000</td>\n",
       "      <td>0.000000</td>\n",
       "      <td>0.000000</td>\n",
       "      <td>0.000000</td>\n",
       "      <td>0.000000</td>\n",
       "      <td>0.000000</td>\n",
       "      <td>0.000000</td>\n",
       "    </tr>\n",
       "    <tr>\n",
       "      <th>50%</th>\n",
       "      <td>0.000000</td>\n",
       "      <td>0.017857</td>\n",
       "      <td>0.000000</td>\n",
       "      <td>0.000000</td>\n",
       "      <td>185.000000</td>\n",
       "      <td>0.009464</td>\n",
       "      <td>0.000000</td>\n",
       "      <td>1.000000</td>\n",
       "      <td>0.000000</td>\n",
       "      <td>0.000000</td>\n",
       "      <td>...</td>\n",
       "      <td>0.000000</td>\n",
       "      <td>0.000000</td>\n",
       "      <td>0.000000</td>\n",
       "      <td>0.000000</td>\n",
       "      <td>0.000000</td>\n",
       "      <td>0.000000</td>\n",
       "      <td>0.000000</td>\n",
       "      <td>0.000000</td>\n",
       "      <td>0.000000</td>\n",
       "      <td>0.000000</td>\n",
       "    </tr>\n",
       "    <tr>\n",
       "      <th>75%</th>\n",
       "      <td>0.083333</td>\n",
       "      <td>0.035714</td>\n",
       "      <td>0.000000</td>\n",
       "      <td>0.000000</td>\n",
       "      <td>339.000000</td>\n",
       "      <td>0.057103</td>\n",
       "      <td>0.000000</td>\n",
       "      <td>1.000000</td>\n",
       "      <td>0.000000</td>\n",
       "      <td>0.000000</td>\n",
       "      <td>...</td>\n",
       "      <td>0.000000</td>\n",
       "      <td>0.000000</td>\n",
       "      <td>0.000000</td>\n",
       "      <td>1.000000</td>\n",
       "      <td>1.000000</td>\n",
       "      <td>0.000000</td>\n",
       "      <td>0.000000</td>\n",
       "      <td>0.000000</td>\n",
       "      <td>0.000000</td>\n",
       "      <td>0.000000</td>\n",
       "    </tr>\n",
       "    <tr>\n",
       "      <th>max</th>\n",
       "      <td>1.000000</td>\n",
       "      <td>1.000000</td>\n",
       "      <td>1.000000</td>\n",
       "      <td>1.000000</td>\n",
       "      <td>719.000000</td>\n",
       "      <td>1.000000</td>\n",
       "      <td>1.000000</td>\n",
       "      <td>1.000000</td>\n",
       "      <td>1.000000</td>\n",
       "      <td>1.000000</td>\n",
       "      <td>...</td>\n",
       "      <td>1.000000</td>\n",
       "      <td>1.000000</td>\n",
       "      <td>1.000000</td>\n",
       "      <td>1.000000</td>\n",
       "      <td>1.000000</td>\n",
       "      <td>1.000000</td>\n",
       "      <td>1.000000</td>\n",
       "      <td>1.000000</td>\n",
       "      <td>1.000000</td>\n",
       "      <td>1.000000</td>\n",
       "    </tr>\n",
       "  </tbody>\n",
       "</table>\n",
       "<p>8 rows × 740 columns</p>\n",
       "</div>"
      ],
      "text/plain": [
       "       reassignment_count  sys_mod_count    knowledge  \\\n",
       "count         9299.000000    9299.000000  9299.000000   \n",
       "mean             0.050946       0.023426     0.208410   \n",
       "std              0.082066       0.036067     0.406193   \n",
       "min              0.000000       0.000000     0.000000   \n",
       "25%              0.000000       0.000000     0.000000   \n",
       "50%              0.000000       0.017857     0.000000   \n",
       "75%              0.083333       0.035714     0.000000   \n",
       "max              1.000000       1.000000     1.000000   \n",
       "\n",
       "       u_priority_confirmation       target  data_created_updated_diff  \\\n",
       "count              9299.000000  9299.000000                9299.000000   \n",
       "mean                  0.000538   244.736208                   0.057103   \n",
       "std                   0.023183   143.165530                   0.144811   \n",
       "min                   0.000000     0.000000                   0.000000   \n",
       "25%                   0.000000   123.000000                   0.000000   \n",
       "50%                   0.000000   185.000000                   0.009464   \n",
       "75%                   0.000000   339.000000                   0.057103   \n",
       "max                   1.000000   719.000000                   1.000000   \n",
       "\n",
       "       contact_type_Email  contact_type_Phone   location_?  \\\n",
       "count         9299.000000         9299.000000  9299.000000   \n",
       "mean             0.003871            0.996129     0.004839   \n",
       "std              0.062103            0.062103     0.069400   \n",
       "min              0.000000            0.000000     0.000000   \n",
       "25%              0.000000            1.000000     0.000000   \n",
       "50%              0.000000            1.000000     0.000000   \n",
       "75%              0.000000            1.000000     0.000000   \n",
       "max              1.000000            1.000000     1.000000   \n",
       "\n",
       "       location_Location 10  ...  data_opened_at_11-m  data_opened_at_12-m  \\\n",
       "count           9299.000000  ...          9299.000000          9299.000000   \n",
       "mean               0.000108  ...             0.048177             0.027422   \n",
       "std                0.010370  ...             0.214152             0.163319   \n",
       "min                0.000000  ...             0.000000             0.000000   \n",
       "25%                0.000000  ...             0.000000             0.000000   \n",
       "50%                0.000000  ...             0.000000             0.000000   \n",
       "75%                0.000000  ...             0.000000             0.000000   \n",
       "max                1.000000  ...             1.000000             1.000000   \n",
       "\n",
       "       data_opened_at_2-m  data_opened_at_3-m  data_opened_at_4-m  \\\n",
       "count         9299.000000         9299.000000         9299.000000   \n",
       "mean             0.039897            0.309818            0.335305   \n",
       "std              0.195727            0.462443            0.472122   \n",
       "min              0.000000            0.000000            0.000000   \n",
       "25%              0.000000            0.000000            0.000000   \n",
       "50%              0.000000            0.000000            0.000000   \n",
       "75%              0.000000            1.000000            1.000000   \n",
       "max              1.000000            1.000000            1.000000   \n",
       "\n",
       "       data_opened_at_5-m  data_opened_at_6-m  data_opened_at_7-m  \\\n",
       "count         9299.000000         9299.000000         9299.000000   \n",
       "mean             0.029573            0.026132            0.056350   \n",
       "std              0.169415            0.159536            0.230609   \n",
       "min              0.000000            0.000000            0.000000   \n",
       "25%              0.000000            0.000000            0.000000   \n",
       "50%              0.000000            0.000000            0.000000   \n",
       "75%              0.000000            0.000000            0.000000   \n",
       "max              1.000000            1.000000            1.000000   \n",
       "\n",
       "       data_opened_at_8-m  data_opened_at_9-m  \n",
       "count         9299.000000         9299.000000  \n",
       "mean             0.042693            0.018604  \n",
       "std              0.202174            0.135130  \n",
       "min              0.000000            0.000000  \n",
       "25%              0.000000            0.000000  \n",
       "50%              0.000000            0.000000  \n",
       "75%              0.000000            0.000000  \n",
       "max              1.000000            1.000000  \n",
       "\n",
       "[8 rows x 740 columns]"
      ]
     },
     "execution_count": 31,
     "metadata": {},
     "output_type": "execute_result"
    }
   ],
   "source": [
    "data_train.describe()"
   ]
  },
  {
   "cell_type": "code",
   "execution_count": 32,
   "id": "8ec9f13b",
   "metadata": {},
   "outputs": [],
   "source": [
    "import sklearn\n",
    "from sklearn.model_selection import train_test_split\n",
    "\n",
    "X_train, X_test, y_train, y_test = train_test_split(data_train[f_cols], data_train['target'], \n",
    "                                                       train_size=0.8, \n",
    "                                                       random_state=42)"
   ]
  },
  {
   "cell_type": "code",
   "execution_count": 33,
   "id": "ace694e6",
   "metadata": {},
   "outputs": [],
   "source": [
    "import torch\n",
    "from torch import nn\n",
    "from torch.nn import functional as F\n",
    "from torch.utils import data\n",
    "import random\n",
    "from torch.utils.data import TensorDataset, DataLoader\n",
    "from torch.utils.data import Dataset\n",
    "from torchvision import datasets"
   ]
  },
  {
   "cell_type": "code",
   "execution_count": 34,
   "id": "fe47fffa",
   "metadata": {},
   "outputs": [],
   "source": [
    "class MyDataset(Dataset):\n",
    "    def __init__(self, samples, labels):\n",
    "        self.labels = torch.from_numpy(labels.to_numpy()).type(torch.FloatTensor) \n",
    "        self.samples = torch.from_numpy(samples.to_numpy()).type(torch.FloatTensor) \n",
    "\n",
    "    def __len__(self):\n",
    "        return len(self.labels)\n",
    "\n",
    "    def __getitem__(self, idx):\n",
    "        sample = self.samples[idx]\n",
    "        label = self.labels[idx]\n",
    "        return sample, label"
   ]
  },
  {
   "cell_type": "code",
   "execution_count": 35,
   "id": "c7a682f3",
   "metadata": {},
   "outputs": [],
   "source": [
    "t_data = MyDataset(X_train, y_train)\n",
    "v_data = MyDataset(X_test, y_test)"
   ]
  },
  {
   "cell_type": "code",
   "execution_count": 36,
   "id": "40ba7df0",
   "metadata": {},
   "outputs": [],
   "source": [
    "dataloaders = {'train': data.DataLoader(t_data, batch_size=1,\n",
    "                                              shuffle=True, num_workers=0),\n",
    "               'val': data.DataLoader(v_data, batch_size=1,\n",
    "                                              shuffle=True, num_workers=0)\n",
    "               }\n",
    "dataset_sizes = {'train': len(t_data),\n",
    "                'val': len(v_data)}"
   ]
  },
  {
   "cell_type": "code",
   "execution_count": 37,
   "id": "e1545187",
   "metadata": {},
   "outputs": [],
   "source": [
    "from tqdm.autonotebook import tqdm, trange\n",
    "\n",
    "import torch.nn as nn\n",
    "import torch.optim as optim\n",
    "from torch.optim import lr_scheduler\n",
    "\n",
    "import numpy as np\n",
    "from torchvision import datasets, models, transforms\n",
    "import matplotlib.pyplot as plt\n",
    "import time"
   ]
  },
  {
   "cell_type": "code",
   "execution_count": 38,
   "id": "fbc2a6f3",
   "metadata": {},
   "outputs": [],
   "source": [
    "def train_model(model, criterion, optimizer, num_epochs=25):\n",
    "    since = time.time()\n",
    "\n",
    "    best_model_wts = model.state_dict()\n",
    "    best_loss = 20000\n",
    "    \n",
    "    losses = {'train': [], \"val\": []}\n",
    "\n",
    "    pbar = trange(num_epochs, desc=\"Epoch:\")\n",
    "\n",
    "    for epoch in pbar:\n",
    "        for phase in ['train', 'val']:\n",
    "            if phase == 'train':\n",
    "                model.train(True)\n",
    "            else:\n",
    "                model.eval()\n",
    "\n",
    "            running_loss = 0.0\n",
    "\n",
    "            for data in tqdm(dataloaders[phase], leave=False, desc=f\"{phase} iter:\"):\n",
    "                inputs, labels = data\n",
    "                #labels = labels.to(torch.float32)\n",
    "                if phase==\"train\":\n",
    "                    optimizer.zero_grad()\n",
    "\n",
    "                # forward pass\n",
    "                if phase == \"eval\":\n",
    "                    with torch.no_grad():\n",
    "                        outputs = model(inputs)\n",
    "                else:\n",
    "                    outputs = model(inputs)\n",
    "                preds = torch.argmax(outputs, -1)\n",
    "                loss = criterion(outputs, labels)\n",
    "\n",
    "                # backward pass + оптимизируем только если это стадия обучения\n",
    "                if phase == 'train':\n",
    "                    loss.backward()\n",
    "                    optimizer.step()\n",
    "\n",
    "                # статистика\n",
    "                running_loss += loss.item()\n",
    "\n",
    "            epoch_loss = running_loss / dataset_sizes[phase]\n",
    "            \n",
    "            losses[phase].append(epoch_loss)\n",
    "            \n",
    "            pbar.set_description('{} Loss: {:.4f}'.format(\n",
    "                                    phase, epoch_loss\n",
    "                                ))\n",
    "\n",
    "            # если достиглось лучшее качество, то запомним веса модели\n",
    "            if phase == 'val' and epoch_loss < best_loss:\n",
    "                best_loss = epoch_loss\n",
    "                best_model_wts = model.state_dict()\n",
    "\n",
    "    time_elapsed = time.time() - since\n",
    "    print('Training complete in {:.0f}m {:.0f}s'.format(\n",
    "        time_elapsed // 60, time_elapsed % 60))\n",
    "    print('Best val Loss: {:4f}'.format(best_loss))\n",
    "\n",
    "    # загрузим лучшие веса модели\n",
    "    model.load_state_dict(best_model_wts)\n",
    "    return model, losses"
   ]
  },
  {
   "cell_type": "code",
   "execution_count": 39,
   "id": "1989ce11",
   "metadata": {},
   "outputs": [],
   "source": [
    "def evaluate(model):\n",
    "    model.eval()\n",
    "    \n",
    "    runninig_correct = 0\n",
    "    for data in dataloaders['val']:\n",
    "        inputs, labels = data\n",
    "        \n",
    "        if use_gpu:\n",
    "            inputs = inputs.cuda()\n",
    "            labels = labels.cuda()\n",
    "            \n",
    "        output = model(inputs)\n",
    "        _, predicted = torch.max(output, 1)\n",
    "        \n",
    "        runninig_correct += int(torch.sum(predicted == labels))\n",
    "        \n",
    "    return runninig_correct / dataset_sizes['val']"
   ]
  },
  {
   "cell_type": "code",
   "execution_count": 43,
   "id": "35ca7aa8",
   "metadata": {},
   "outputs": [],
   "source": [
    "class SimpleNet(nn.Module):\n",
    "    def __init__(self, num):\n",
    "        super(SimpleNet, self).__init__()\n",
    "        self.regres = nn.Sequential(\n",
    "            nn.Linear(num, 500),\n",
    "            nn.Sigmoid(),\n",
    "            nn.Linear(500, 500),\n",
    "            nn.Sigmoid(),\n",
    "            nn.Linear(500, 1)\n",
    "        )\n",
    "    def forward(self, x):\n",
    "        x = self.regres(x)\n",
    "        return x"
   ]
  },
  {
   "cell_type": "code",
   "execution_count": 44,
   "id": "5158f5ca",
   "metadata": {},
   "outputs": [],
   "source": [
    "model = SimpleNet(len(f_cols))\n",
    "loss_fn = nn.L1Loss()\n",
    "optimizer_ft = optim.Adam(model.parameters(), lr=1e-3)\n",
    "exp_lr_scheduler = lr_scheduler.StepLR(optimizer_ft, step_size=50, gamma=0.9)"
   ]
  },
  {
   "cell_type": "code",
   "execution_count": 45,
   "id": "f1cde903",
   "metadata": {},
   "outputs": [
    {
     "data": {
      "application/vnd.jupyter.widget-view+json": {
       "model_id": "8a10ddd17b104f60a010f5d3fb2cc1c9",
       "version_major": 2,
       "version_minor": 0
      },
      "text/plain": [
       "Epoch::   0%|          | 0/10 [00:00<?, ?it/s]"
      ]
     },
     "metadata": {},
     "output_type": "display_data"
    },
    {
     "data": {
      "application/vnd.jupyter.widget-view+json": {
       "model_id": "",
       "version_major": 2,
       "version_minor": 0
      },
      "text/plain": [
       "train iter::   0%|          | 0/7439 [00:00<?, ?it/s]"
      ]
     },
     "metadata": {},
     "output_type": "display_data"
    },
    {
     "name": "stderr",
     "output_type": "stream",
     "text": [
      "C:\\Users\\savel\\anaconda3\\lib\\site-packages\\torch\\nn\\modules\\loss.py:96: UserWarning: Using a target size (torch.Size([1])) that is different to the input size (torch.Size([1, 1])). This will likely lead to incorrect results due to broadcasting. Please ensure they have the same size.\n",
      "  return F.l1_loss(input, target, reduction=self.reduction)\n"
     ]
    },
    {
     "data": {
      "application/vnd.jupyter.widget-view+json": {
       "model_id": "",
       "version_major": 2,
       "version_minor": 0
      },
      "text/plain": [
       "val iter::   0%|          | 0/1860 [00:00<?, ?it/s]"
      ]
     },
     "metadata": {},
     "output_type": "display_data"
    },
    {
     "data": {
      "application/vnd.jupyter.widget-view+json": {
       "model_id": "",
       "version_major": 2,
       "version_minor": 0
      },
      "text/plain": [
       "train iter::   0%|          | 0/7439 [00:00<?, ?it/s]"
      ]
     },
     "metadata": {},
     "output_type": "display_data"
    },
    {
     "data": {
      "application/vnd.jupyter.widget-view+json": {
       "model_id": "",
       "version_major": 2,
       "version_minor": 0
      },
      "text/plain": [
       "val iter::   0%|          | 0/1860 [00:00<?, ?it/s]"
      ]
     },
     "metadata": {},
     "output_type": "display_data"
    },
    {
     "data": {
      "application/vnd.jupyter.widget-view+json": {
       "model_id": "",
       "version_major": 2,
       "version_minor": 0
      },
      "text/plain": [
       "train iter::   0%|          | 0/7439 [00:00<?, ?it/s]"
      ]
     },
     "metadata": {},
     "output_type": "display_data"
    },
    {
     "data": {
      "application/vnd.jupyter.widget-view+json": {
       "model_id": "",
       "version_major": 2,
       "version_minor": 0
      },
      "text/plain": [
       "val iter::   0%|          | 0/1860 [00:00<?, ?it/s]"
      ]
     },
     "metadata": {},
     "output_type": "display_data"
    },
    {
     "data": {
      "application/vnd.jupyter.widget-view+json": {
       "model_id": "",
       "version_major": 2,
       "version_minor": 0
      },
      "text/plain": [
       "train iter::   0%|          | 0/7439 [00:00<?, ?it/s]"
      ]
     },
     "metadata": {},
     "output_type": "display_data"
    },
    {
     "data": {
      "application/vnd.jupyter.widget-view+json": {
       "model_id": "",
       "version_major": 2,
       "version_minor": 0
      },
      "text/plain": [
       "val iter::   0%|          | 0/1860 [00:00<?, ?it/s]"
      ]
     },
     "metadata": {},
     "output_type": "display_data"
    },
    {
     "data": {
      "application/vnd.jupyter.widget-view+json": {
       "model_id": "",
       "version_major": 2,
       "version_minor": 0
      },
      "text/plain": [
       "train iter::   0%|          | 0/7439 [00:00<?, ?it/s]"
      ]
     },
     "metadata": {},
     "output_type": "display_data"
    },
    {
     "data": {
      "application/vnd.jupyter.widget-view+json": {
       "model_id": "",
       "version_major": 2,
       "version_minor": 0
      },
      "text/plain": [
       "val iter::   0%|          | 0/1860 [00:00<?, ?it/s]"
      ]
     },
     "metadata": {},
     "output_type": "display_data"
    },
    {
     "data": {
      "application/vnd.jupyter.widget-view+json": {
       "model_id": "",
       "version_major": 2,
       "version_minor": 0
      },
      "text/plain": [
       "train iter::   0%|          | 0/7439 [00:00<?, ?it/s]"
      ]
     },
     "metadata": {},
     "output_type": "display_data"
    },
    {
     "data": {
      "application/vnd.jupyter.widget-view+json": {
       "model_id": "",
       "version_major": 2,
       "version_minor": 0
      },
      "text/plain": [
       "val iter::   0%|          | 0/1860 [00:00<?, ?it/s]"
      ]
     },
     "metadata": {},
     "output_type": "display_data"
    },
    {
     "data": {
      "application/vnd.jupyter.widget-view+json": {
       "model_id": "",
       "version_major": 2,
       "version_minor": 0
      },
      "text/plain": [
       "train iter::   0%|          | 0/7439 [00:00<?, ?it/s]"
      ]
     },
     "metadata": {},
     "output_type": "display_data"
    },
    {
     "data": {
      "application/vnd.jupyter.widget-view+json": {
       "model_id": "",
       "version_major": 2,
       "version_minor": 0
      },
      "text/plain": [
       "val iter::   0%|          | 0/1860 [00:00<?, ?it/s]"
      ]
     },
     "metadata": {},
     "output_type": "display_data"
    },
    {
     "data": {
      "application/vnd.jupyter.widget-view+json": {
       "model_id": "",
       "version_major": 2,
       "version_minor": 0
      },
      "text/plain": [
       "train iter::   0%|          | 0/7439 [00:00<?, ?it/s]"
      ]
     },
     "metadata": {},
     "output_type": "display_data"
    },
    {
     "data": {
      "application/vnd.jupyter.widget-view+json": {
       "model_id": "",
       "version_major": 2,
       "version_minor": 0
      },
      "text/plain": [
       "val iter::   0%|          | 0/1860 [00:00<?, ?it/s]"
      ]
     },
     "metadata": {},
     "output_type": "display_data"
    },
    {
     "data": {
      "application/vnd.jupyter.widget-view+json": {
       "model_id": "",
       "version_major": 2,
       "version_minor": 0
      },
      "text/plain": [
       "train iter::   0%|          | 0/7439 [00:00<?, ?it/s]"
      ]
     },
     "metadata": {},
     "output_type": "display_data"
    },
    {
     "data": {
      "application/vnd.jupyter.widget-view+json": {
       "model_id": "",
       "version_major": 2,
       "version_minor": 0
      },
      "text/plain": [
       "val iter::   0%|          | 0/1860 [00:00<?, ?it/s]"
      ]
     },
     "metadata": {},
     "output_type": "display_data"
    },
    {
     "data": {
      "application/vnd.jupyter.widget-view+json": {
       "model_id": "",
       "version_major": 2,
       "version_minor": 0
      },
      "text/plain": [
       "train iter::   0%|          | 0/7439 [00:00<?, ?it/s]"
      ]
     },
     "metadata": {},
     "output_type": "display_data"
    },
    {
     "data": {
      "application/vnd.jupyter.widget-view+json": {
       "model_id": "",
       "version_major": 2,
       "version_minor": 0
      },
      "text/plain": [
       "val iter::   0%|          | 0/1860 [00:00<?, ?it/s]"
      ]
     },
     "metadata": {},
     "output_type": "display_data"
    },
    {
     "name": "stdout",
     "output_type": "stream",
     "text": [
      "Training complete in 5m 11s\n",
      "Best val Loss: 80.873261\n"
     ]
    }
   ],
   "source": [
    "model, losses = train_model(model, loss_fn, optimizer_ft, num_epochs=10)"
   ]
  },
  {
   "cell_type": "code",
   "execution_count": 84,
   "id": "cc381369",
   "metadata": {},
   "outputs": [
    {
     "name": "stderr",
     "output_type": "stream",
     "text": [
      "C:\\Users\\savel\\anaconda3\\lib\\site-packages\\sklearn\\neural_network\\_multilayer_perceptron.py:692: ConvergenceWarning: Stochastic Optimizer: Maximum iterations (50) reached and the optimization hasn't converged yet.\n",
      "  warnings.warn(\n"
     ]
    },
    {
     "data": {
      "text/plain": [
       "55.298751192885916"
      ]
     },
     "execution_count": 84,
     "metadata": {},
     "output_type": "execute_result"
    }
   ],
   "source": [
    "from sklearn.neural_network import MLPRegressor\n",
    "\n",
    "sk_model = sklearn.neural_network.MLPRegressor(hidden_layer_sizes=(300,300,300), max_iter=50)\n",
    "sk_model.fit(X_train, y_train)\n",
    "y_train_predicted = sk_model.predict(X_train)\n",
    "y_test_predicted = sk_model.predict(X_test)\n",
    "train_ac = sklearn.metrics.mean_absolute_error(y_train, y_train_predicted)\n",
    "test_ac = sklearn.metrics.mean_absolute_error(y_test, y_test_predicted)\n",
    "train_ac"
   ]
  },
  {
   "cell_type": "code",
   "execution_count": 85,
   "id": "d464dd3d",
   "metadata": {},
   "outputs": [
    {
     "data": {
      "text/plain": [
       "107.30939979222525"
      ]
     },
     "execution_count": 85,
     "metadata": {},
     "output_type": "execute_result"
    }
   ],
   "source": [
    "test_ac"
   ]
  },
  {
   "cell_type": "code",
   "execution_count": 38,
   "id": "8ed2db7b",
   "metadata": {},
   "outputs": [],
   "source": [
    "outputs = model(torch.from_numpy(X_test.to_numpy()).type(torch.FloatTensor))"
   ]
  },
  {
   "cell_type": "code",
   "execution_count": 39,
   "id": "81247038",
   "metadata": {},
   "outputs": [
    {
     "data": {
      "text/plain": [
       "tensor([[313.5920],\n",
       "        [255.2806],\n",
       "        [326.5235],\n",
       "        ...,\n",
       "        [231.6213],\n",
       "        [294.6318],\n",
       "        [177.6395]], grad_fn=<AddmmBackward0>)"
      ]
     },
     "execution_count": 39,
     "metadata": {},
     "output_type": "execute_result"
    }
   ],
   "source": [
    "outputs"
   ]
  },
  {
   "cell_type": "code",
   "execution_count": 40,
   "id": "660ecac7",
   "metadata": {},
   "outputs": [
    {
     "data": {
      "text/plain": [
       "2029    387.0\n",
       "8506    380.0\n",
       "1233    483.0\n",
       "2128    435.0\n",
       "357     139.0\n",
       "        ...  \n",
       "2906    247.0\n",
       "8148    123.0\n",
       "5397    258.0\n",
       "3383    266.0\n",
       "3324    202.0\n",
       "Name: target, Length: 1816, dtype: float64"
      ]
     },
     "execution_count": 40,
     "metadata": {},
     "output_type": "execute_result"
    }
   ],
   "source": [
    "y_test"
   ]
  },
  {
   "cell_type": "code",
   "execution_count": null,
   "id": "32db132f",
   "metadata": {},
   "outputs": [],
   "source": []
  }
 ],
 "metadata": {
  "kernelspec": {
   "display_name": "Python 3 (ipykernel)",
   "language": "python",
   "name": "python3"
  },
  "language_info": {
   "codemirror_mode": {
    "name": "ipython",
    "version": 3
   },
   "file_extension": ".py",
   "mimetype": "text/x-python",
   "name": "python",
   "nbconvert_exporter": "python",
   "pygments_lexer": "ipython3",
   "version": "3.9.7"
  }
 },
 "nbformat": 4,
 "nbformat_minor": 5
}
